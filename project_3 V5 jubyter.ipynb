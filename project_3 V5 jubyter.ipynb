{
 "cells": [
  {
   "cell_type": "markdown",
   "metadata": {},
   "source": [
    "\n",
    "# <span style='color:maroon'>  Third project for data analyiss course </span>"
   ]
  },
  {
   "cell_type": "markdown",
   "metadata": {},
   "source": [
    "##### <span style='color:tan'>  in this projet we have two question the first is aboute data measure the protein consumed (using 9 different types of food- variables) in 25 European countries and find the principal components. The second is aboute perform LOOCV to oil data </span>"
   ]
  },
  {
   "cell_type": "code",
   "execution_count": 1,
   "metadata": {},
   "outputs": [],
   "source": [
    "library(readxl)"
   ]
  },
  {
   "cell_type": "code",
   "execution_count": 86,
   "metadata": {},
   "outputs": [],
   "source": [
    "library(remotes)"
   ]
  },
  {
   "cell_type": "code",
   "execution_count": 5,
   "metadata": {},
   "outputs": [],
   "source": [
    "library(ggbiplot)"
   ]
  },
  {
   "cell_type": "markdown",
   "metadata": {},
   "source": [
    "### <span style='color:maroon'> FIRST QUESTION : </span>"
   ]
  },
  {
   "cell_type": "markdown",
   "metadata": {},
   "source": [
    "### <span style='color:gray'> dicraibing the data\n"
   ]
  },
  {
   "cell_type": "markdown",
   "metadata": {},
   "source": [
    "##### <span style='color:tan'> At first we will dicraibe the data\n",
    "##### <span style='color:tan'> from the \" str \" cammend it explayn that the data have 25 obs and 10 variables and all have numreical values exapt country \n",
    "##### <span style='color:tan'> this data shows the measure of protein consumed by using 9 different types of food in 25 European countries."
   ]
  },
  {
   "cell_type": "code",
   "execution_count": 3,
   "metadata": {},
   "outputs": [],
   "source": [
    "protein <- read.csv(file=\"protein.csv\",header = TRUE,sep=\",\")"
   ]
  },
  {
   "cell_type": "code",
   "execution_count": 30,
   "metadata": {},
   "outputs": [
    {
     "data": {
      "text/html": [
       "<table>\n",
       "<thead><tr><th scope=col>Country</th><th scope=col>Red Meat</th><th scope=col>White Meat</th><th scope=col>Eggs</th><th scope=col>Milk</th><th scope=col>Fish</th><th scope=col>Cereal</th><th scope=col>Starch</th><th scope=col>Nuts</th><th scope=col>fruits and vegetables</th></tr></thead>\n",
       "<tbody>\n",
       "\t<tr><td>Albania       </td><td>10.1          </td><td> 1.4          </td><td>0.5           </td><td> 8.9          </td><td> 0.2          </td><td>42.3          </td><td>0.6           </td><td>5.5           </td><td>1.7           </td></tr>\n",
       "\t<tr><td>Austria       </td><td> 8.9          </td><td>14.0          </td><td>4.3           </td><td>19.9          </td><td> 2.1          </td><td>28.0          </td><td>3.6           </td><td>1.3           </td><td>4.3           </td></tr>\n",
       "\t<tr><td>Belgium       </td><td>13.5          </td><td> 9.3          </td><td>4.1           </td><td>17.5          </td><td> 4.5          </td><td>26.6          </td><td>5.7           </td><td>2.1           </td><td>4.0           </td></tr>\n",
       "\t<tr><td>Bulgaria      </td><td> 7.8          </td><td> 6.0          </td><td>1.6           </td><td> 8.3          </td><td> 1.2          </td><td>56.7          </td><td>1.1           </td><td>3.7           </td><td>4.2           </td></tr>\n",
       "\t<tr><td>Czechoslovakia</td><td> 9.7          </td><td>11.4          </td><td>2.8           </td><td>12.5          </td><td> 2.0          </td><td>34.3          </td><td>5.0           </td><td>1.1           </td><td>4.0           </td></tr>\n",
       "\t<tr><td>Denmark       </td><td>10.6          </td><td>10.8          </td><td>3.7           </td><td>25.0          </td><td> 9.9          </td><td>21.9          </td><td>4.8           </td><td>0.7           </td><td>2.4           </td></tr>\n",
       "\t<tr><td>E Germany     </td><td> 8.4          </td><td>11.6          </td><td>3.7           </td><td>11.1          </td><td> 5.4          </td><td>24.6          </td><td>6.5           </td><td>0.8           </td><td>3.6           </td></tr>\n",
       "\t<tr><td>Finland       </td><td> 9.5          </td><td> 4.9          </td><td>2.7           </td><td>33.7          </td><td> 5.8          </td><td>26.3          </td><td>5.1           </td><td>1.0           </td><td>1.4           </td></tr>\n",
       "\t<tr><td>France        </td><td>18.0          </td><td> 9.9          </td><td>3.3           </td><td>19.5          </td><td> 5.7          </td><td>28.1          </td><td>4.8           </td><td>2.4           </td><td>6.5           </td></tr>\n",
       "\t<tr><td>Greece        </td><td>10.2          </td><td> 3.0          </td><td>2.8           </td><td>17.6          </td><td> 5.9          </td><td>41.7          </td><td>2.2           </td><td>7.8           </td><td>6.5           </td></tr>\n",
       "\t<tr><td>Hungary       </td><td> 5.3          </td><td>12.4          </td><td>2.9           </td><td> 9.7          </td><td> 0.3          </td><td>40.1          </td><td>4.0           </td><td>5.4           </td><td>4.2           </td></tr>\n",
       "\t<tr><td>Ireland       </td><td>13.9          </td><td>10.0          </td><td>4.7           </td><td>25.8          </td><td> 2.2          </td><td>24.0          </td><td>6.2           </td><td>1.6           </td><td>2.9           </td></tr>\n",
       "\t<tr><td>Italy         </td><td> 9.0          </td><td> 5.1          </td><td>2.9           </td><td>13.7          </td><td> 3.4          </td><td>36.8          </td><td>2.1           </td><td>4.3           </td><td>6.7           </td></tr>\n",
       "\t<tr><td>Netherlands   </td><td> 9.5          </td><td>13.6          </td><td>3.6           </td><td>23.4          </td><td> 2.5          </td><td>22.4          </td><td>4.2           </td><td>1.8           </td><td>3.7           </td></tr>\n",
       "\t<tr><td>Norway        </td><td> 9.4          </td><td> 4.7          </td><td>2.7           </td><td>23.3          </td><td> 9.7          </td><td>23.0          </td><td>4.6           </td><td>1.6           </td><td>2.7           </td></tr>\n",
       "\t<tr><td>Poland        </td><td> 6.9          </td><td>10.2          </td><td>2.7           </td><td>19.3          </td><td> 3.0          </td><td>36.1          </td><td>5.9           </td><td>2.0           </td><td>6.6           </td></tr>\n",
       "\t<tr><td>Portugal      </td><td> 6.2          </td><td> 3.7          </td><td>1.1           </td><td> 4.9          </td><td>14.2          </td><td>27.0          </td><td>5.9           </td><td>4.7           </td><td>7.9           </td></tr>\n",
       "\t<tr><td>Romaine       </td><td> 6.2          </td><td> 6.3          </td><td>1.5           </td><td>11.1          </td><td> 1.0          </td><td>49.6          </td><td>3.1           </td><td>5.3           </td><td>2.8           </td></tr>\n",
       "\t<tr><td>Spain         </td><td> 7.1          </td><td> 3.4          </td><td>3.1           </td><td> 8.6          </td><td> 7.0          </td><td>29.2          </td><td>5.7           </td><td>5.9           </td><td>7.2           </td></tr>\n",
       "\t<tr><td>Sweden        </td><td> 9.9          </td><td> 7.8          </td><td>3.5           </td><td> 4.7          </td><td> 7.5          </td><td>19.5          </td><td>3.7           </td><td>1.4           </td><td>2.0           </td></tr>\n",
       "\t<tr><td>Switzerland   </td><td>13.1          </td><td>10.1          </td><td>3.1           </td><td>23.8          </td><td> 2.3          </td><td>25.6          </td><td>2.8           </td><td>2.4           </td><td>4.9           </td></tr>\n",
       "\t<tr><td>UK            </td><td>17.4          </td><td> 5.7          </td><td>4.7           </td><td>20.6          </td><td> 4.3          </td><td>24.3          </td><td>4.7           </td><td>3.4           </td><td>3.3           </td></tr>\n",
       "\t<tr><td>USSR          </td><td> 9.3          </td><td> 4.6          </td><td>2.1           </td><td>16.6          </td><td> 3.0          </td><td>43.6          </td><td>6.4           </td><td>3.4           </td><td>2.9           </td></tr>\n",
       "\t<tr><td>W Germany     </td><td>11.4          </td><td>12.5          </td><td>4.1           </td><td>18.8          </td><td> 3.4          </td><td>18.6          </td><td>5.2           </td><td>1.5           </td><td>3.8           </td></tr>\n",
       "\t<tr><td>Yugoslavia    </td><td> 4.4          </td><td> 5.0          </td><td>1.2           </td><td> 9.5          </td><td> 0.6          </td><td>55.9          </td><td>3.0           </td><td>5.7           </td><td>3.2           </td></tr>\n",
       "</tbody>\n",
       "</table>\n"
      ],
      "text/latex": [
       "\\begin{tabular}{r|llllllllll}\n",
       " Country & Red Meat & White Meat & Eggs & Milk & Fish & Cereal & Starch & Nuts & fruits and vegetables\\\\\n",
       "\\hline\n",
       "\t Albania        & 10.1           &  1.4           & 0.5            &  8.9           &  0.2           & 42.3           & 0.6            & 5.5            & 1.7           \\\\\n",
       "\t Austria        &  8.9           & 14.0           & 4.3            & 19.9           &  2.1           & 28.0           & 3.6            & 1.3            & 4.3           \\\\\n",
       "\t Belgium        & 13.5           &  9.3           & 4.1            & 17.5           &  4.5           & 26.6           & 5.7            & 2.1            & 4.0           \\\\\n",
       "\t Bulgaria       &  7.8           &  6.0           & 1.6            &  8.3           &  1.2           & 56.7           & 1.1            & 3.7            & 4.2           \\\\\n",
       "\t Czechoslovakia &  9.7           & 11.4           & 2.8            & 12.5           &  2.0           & 34.3           & 5.0            & 1.1            & 4.0           \\\\\n",
       "\t Denmark        & 10.6           & 10.8           & 3.7            & 25.0           &  9.9           & 21.9           & 4.8            & 0.7            & 2.4           \\\\\n",
       "\t E Germany      &  8.4           & 11.6           & 3.7            & 11.1           &  5.4           & 24.6           & 6.5            & 0.8            & 3.6           \\\\\n",
       "\t Finland        &  9.5           &  4.9           & 2.7            & 33.7           &  5.8           & 26.3           & 5.1            & 1.0            & 1.4           \\\\\n",
       "\t France         & 18.0           &  9.9           & 3.3            & 19.5           &  5.7           & 28.1           & 4.8            & 2.4            & 6.5           \\\\\n",
       "\t Greece         & 10.2           &  3.0           & 2.8            & 17.6           &  5.9           & 41.7           & 2.2            & 7.8            & 6.5           \\\\\n",
       "\t Hungary        &  5.3           & 12.4           & 2.9            &  9.7           &  0.3           & 40.1           & 4.0            & 5.4            & 4.2           \\\\\n",
       "\t Ireland        & 13.9           & 10.0           & 4.7            & 25.8           &  2.2           & 24.0           & 6.2            & 1.6            & 2.9           \\\\\n",
       "\t Italy          &  9.0           &  5.1           & 2.9            & 13.7           &  3.4           & 36.8           & 2.1            & 4.3            & 6.7           \\\\\n",
       "\t Netherlands    &  9.5           & 13.6           & 3.6            & 23.4           &  2.5           & 22.4           & 4.2            & 1.8            & 3.7           \\\\\n",
       "\t Norway         &  9.4           &  4.7           & 2.7            & 23.3           &  9.7           & 23.0           & 4.6            & 1.6            & 2.7           \\\\\n",
       "\t Poland         &  6.9           & 10.2           & 2.7            & 19.3           &  3.0           & 36.1           & 5.9            & 2.0            & 6.6           \\\\\n",
       "\t Portugal       &  6.2           &  3.7           & 1.1            &  4.9           & 14.2           & 27.0           & 5.9            & 4.7            & 7.9           \\\\\n",
       "\t Romaine        &  6.2           &  6.3           & 1.5            & 11.1           &  1.0           & 49.6           & 3.1            & 5.3            & 2.8           \\\\\n",
       "\t Spain          &  7.1           &  3.4           & 3.1            &  8.6           &  7.0           & 29.2           & 5.7            & 5.9            & 7.2           \\\\\n",
       "\t Sweden         &  9.9           &  7.8           & 3.5            &  4.7           &  7.5           & 19.5           & 3.7            & 1.4            & 2.0           \\\\\n",
       "\t Switzerland    & 13.1           & 10.1           & 3.1            & 23.8           &  2.3           & 25.6           & 2.8            & 2.4            & 4.9           \\\\\n",
       "\t UK             & 17.4           &  5.7           & 4.7            & 20.6           &  4.3           & 24.3           & 4.7            & 3.4            & 3.3           \\\\\n",
       "\t USSR           &  9.3           &  4.6           & 2.1            & 16.6           &  3.0           & 43.6           & 6.4            & 3.4            & 2.9           \\\\\n",
       "\t W Germany      & 11.4           & 12.5           & 4.1            & 18.8           &  3.4           & 18.6           & 5.2            & 1.5            & 3.8           \\\\\n",
       "\t Yugoslavia     &  4.4           &  5.0           & 1.2            &  9.5           &  0.6           & 55.9           & 3.0            & 5.7            & 3.2           \\\\\n",
       "\\end{tabular}\n"
      ],
      "text/markdown": [
       "\n",
       "| Country | Red Meat | White Meat | Eggs | Milk | Fish | Cereal | Starch | Nuts | fruits and vegetables |\n",
       "|---|---|---|---|---|---|---|---|---|---|\n",
       "| Albania        | 10.1           |  1.4           | 0.5            |  8.9           |  0.2           | 42.3           | 0.6            | 5.5            | 1.7            |\n",
       "| Austria        |  8.9           | 14.0           | 4.3            | 19.9           |  2.1           | 28.0           | 3.6            | 1.3            | 4.3            |\n",
       "| Belgium        | 13.5           |  9.3           | 4.1            | 17.5           |  4.5           | 26.6           | 5.7            | 2.1            | 4.0            |\n",
       "| Bulgaria       |  7.8           |  6.0           | 1.6            |  8.3           |  1.2           | 56.7           | 1.1            | 3.7            | 4.2            |\n",
       "| Czechoslovakia |  9.7           | 11.4           | 2.8            | 12.5           |  2.0           | 34.3           | 5.0            | 1.1            | 4.0            |\n",
       "| Denmark        | 10.6           | 10.8           | 3.7            | 25.0           |  9.9           | 21.9           | 4.8            | 0.7            | 2.4            |\n",
       "| E Germany      |  8.4           | 11.6           | 3.7            | 11.1           |  5.4           | 24.6           | 6.5            | 0.8            | 3.6            |\n",
       "| Finland        |  9.5           |  4.9           | 2.7            | 33.7           |  5.8           | 26.3           | 5.1            | 1.0            | 1.4            |\n",
       "| France         | 18.0           |  9.9           | 3.3            | 19.5           |  5.7           | 28.1           | 4.8            | 2.4            | 6.5            |\n",
       "| Greece         | 10.2           |  3.0           | 2.8            | 17.6           |  5.9           | 41.7           | 2.2            | 7.8            | 6.5            |\n",
       "| Hungary        |  5.3           | 12.4           | 2.9            |  9.7           |  0.3           | 40.1           | 4.0            | 5.4            | 4.2            |\n",
       "| Ireland        | 13.9           | 10.0           | 4.7            | 25.8           |  2.2           | 24.0           | 6.2            | 1.6            | 2.9            |\n",
       "| Italy          |  9.0           |  5.1           | 2.9            | 13.7           |  3.4           | 36.8           | 2.1            | 4.3            | 6.7            |\n",
       "| Netherlands    |  9.5           | 13.6           | 3.6            | 23.4           |  2.5           | 22.4           | 4.2            | 1.8            | 3.7            |\n",
       "| Norway         |  9.4           |  4.7           | 2.7            | 23.3           |  9.7           | 23.0           | 4.6            | 1.6            | 2.7            |\n",
       "| Poland         |  6.9           | 10.2           | 2.7            | 19.3           |  3.0           | 36.1           | 5.9            | 2.0            | 6.6            |\n",
       "| Portugal       |  6.2           |  3.7           | 1.1            |  4.9           | 14.2           | 27.0           | 5.9            | 4.7            | 7.9            |\n",
       "| Romaine        |  6.2           |  6.3           | 1.5            | 11.1           |  1.0           | 49.6           | 3.1            | 5.3            | 2.8            |\n",
       "| Spain          |  7.1           |  3.4           | 3.1            |  8.6           |  7.0           | 29.2           | 5.7            | 5.9            | 7.2            |\n",
       "| Sweden         |  9.9           |  7.8           | 3.5            |  4.7           |  7.5           | 19.5           | 3.7            | 1.4            | 2.0            |\n",
       "| Switzerland    | 13.1           | 10.1           | 3.1            | 23.8           |  2.3           | 25.6           | 2.8            | 2.4            | 4.9            |\n",
       "| UK             | 17.4           |  5.7           | 4.7            | 20.6           |  4.3           | 24.3           | 4.7            | 3.4            | 3.3            |\n",
       "| USSR           |  9.3           |  4.6           | 2.1            | 16.6           |  3.0           | 43.6           | 6.4            | 3.4            | 2.9            |\n",
       "| W Germany      | 11.4           | 12.5           | 4.1            | 18.8           |  3.4           | 18.6           | 5.2            | 1.5            | 3.8            |\n",
       "| Yugoslavia     |  4.4           |  5.0           | 1.2            |  9.5           |  0.6           | 55.9           | 3.0            | 5.7            | 3.2            |\n",
       "\n"
      ],
      "text/plain": [
       "   Country        Red Meat White Meat Eggs Milk Fish Cereal Starch Nuts\n",
       "1  Albania        10.1      1.4       0.5   8.9  0.2 42.3   0.6    5.5 \n",
       "2  Austria         8.9     14.0       4.3  19.9  2.1 28.0   3.6    1.3 \n",
       "3  Belgium        13.5      9.3       4.1  17.5  4.5 26.6   5.7    2.1 \n",
       "4  Bulgaria        7.8      6.0       1.6   8.3  1.2 56.7   1.1    3.7 \n",
       "5  Czechoslovakia  9.7     11.4       2.8  12.5  2.0 34.3   5.0    1.1 \n",
       "6  Denmark        10.6     10.8       3.7  25.0  9.9 21.9   4.8    0.7 \n",
       "7  E Germany       8.4     11.6       3.7  11.1  5.4 24.6   6.5    0.8 \n",
       "8  Finland         9.5      4.9       2.7  33.7  5.8 26.3   5.1    1.0 \n",
       "9  France         18.0      9.9       3.3  19.5  5.7 28.1   4.8    2.4 \n",
       "10 Greece         10.2      3.0       2.8  17.6  5.9 41.7   2.2    7.8 \n",
       "11 Hungary         5.3     12.4       2.9   9.7  0.3 40.1   4.0    5.4 \n",
       "12 Ireland        13.9     10.0       4.7  25.8  2.2 24.0   6.2    1.6 \n",
       "13 Italy           9.0      5.1       2.9  13.7  3.4 36.8   2.1    4.3 \n",
       "14 Netherlands     9.5     13.6       3.6  23.4  2.5 22.4   4.2    1.8 \n",
       "15 Norway          9.4      4.7       2.7  23.3  9.7 23.0   4.6    1.6 \n",
       "16 Poland          6.9     10.2       2.7  19.3  3.0 36.1   5.9    2.0 \n",
       "17 Portugal        6.2      3.7       1.1   4.9 14.2 27.0   5.9    4.7 \n",
       "18 Romaine         6.2      6.3       1.5  11.1  1.0 49.6   3.1    5.3 \n",
       "19 Spain           7.1      3.4       3.1   8.6  7.0 29.2   5.7    5.9 \n",
       "20 Sweden          9.9      7.8       3.5   4.7  7.5 19.5   3.7    1.4 \n",
       "21 Switzerland    13.1     10.1       3.1  23.8  2.3 25.6   2.8    2.4 \n",
       "22 UK             17.4      5.7       4.7  20.6  4.3 24.3   4.7    3.4 \n",
       "23 USSR            9.3      4.6       2.1  16.6  3.0 43.6   6.4    3.4 \n",
       "24 W Germany      11.4     12.5       4.1  18.8  3.4 18.6   5.2    1.5 \n",
       "25 Yugoslavia      4.4      5.0       1.2   9.5  0.6 55.9   3.0    5.7 \n",
       "   fruits and vegetables\n",
       "1  1.7                  \n",
       "2  4.3                  \n",
       "3  4.0                  \n",
       "4  4.2                  \n",
       "5  4.0                  \n",
       "6  2.4                  \n",
       "7  3.6                  \n",
       "8  1.4                  \n",
       "9  6.5                  \n",
       "10 6.5                  \n",
       "11 4.2                  \n",
       "12 2.9                  \n",
       "13 6.7                  \n",
       "14 3.7                  \n",
       "15 2.7                  \n",
       "16 6.6                  \n",
       "17 7.9                  \n",
       "18 2.8                  \n",
       "19 7.2                  \n",
       "20 2.0                  \n",
       "21 4.9                  \n",
       "22 3.3                  \n",
       "23 2.9                  \n",
       "24 3.8                  \n",
       "25 3.2                  "
      ]
     },
     "metadata": {},
     "output_type": "display_data"
    }
   ],
   "source": [
    "protein"
   ]
  },
  {
   "cell_type": "code",
   "execution_count": 80,
   "metadata": {},
   "outputs": [
    {
     "name": "stdout",
     "output_type": "stream",
     "text": [
      "Classes ‘tbl_df’, ‘tbl’ and 'data.frame':\t25 obs. of  10 variables:\n",
      " $ Country              : chr  \"Albania\" \"Austria\" \"Belgium\" \"Bulgaria\" ...\n",
      " $ Red Meat             : num  10.1 8.9 13.5 7.8 9.7 10.6 8.4 9.5 18 10.2 ...\n",
      " $ White Meat           : num  1.4 14 9.3 6 11.4 10.8 11.6 4.9 9.9 3 ...\n",
      " $ Eggs                 : num  0.5 4.3 4.1 1.6 2.8 3.7 3.7 2.7 3.3 2.8 ...\n",
      " $ Milk                 : num  8.9 19.9 17.5 8.3 12.5 25 11.1 33.7 19.5 17.6 ...\n",
      " $ Fish                 : num  0.2 2.1 4.5 1.2 2 9.9 5.4 5.8 5.7 5.9 ...\n",
      " $ Cereal               : num  42.3 28 26.6 56.7 34.3 21.9 24.6 26.3 28.1 41.7 ...\n",
      " $ Starch               : num  0.6 3.6 5.7 1.1 5 4.8 6.5 5.1 4.8 2.2 ...\n",
      " $ Nuts                 : num  5.5 1.3 2.1 3.7 1.1 0.7 0.8 1 2.4 7.8 ...\n",
      " $ fruits and vegetables: num  1.7 4.3 4 4.2 4 2.4 3.6 1.4 6.5 6.5 ...\n"
     ]
    }
   ],
   "source": [
    "str(protein)"
   ]
  },
  {
   "cell_type": "code",
   "execution_count": 101,
   "metadata": {},
   "outputs": [
    {
     "data": {
      "text/plain": [
       "   Country             Red Meat        White Meat          Eggs      \n",
       " Length:25          Min.   : 4.400   Min.   : 1.400   Min.   :0.500  \n",
       " Class :character   1st Qu.: 7.800   1st Qu.: 4.900   1st Qu.:2.700  \n",
       " Mode  :character   Median : 9.500   Median : 7.800   Median :2.900  \n",
       "                    Mean   : 9.828   Mean   : 7.896   Mean   :2.936  \n",
       "                    3rd Qu.:10.600   3rd Qu.:10.800   3rd Qu.:3.700  \n",
       "                    Max.   :18.000   Max.   :14.000   Max.   :4.700  \n",
       "      Milk            Fish            Cereal          Starch     \n",
       " Min.   : 4.70   Min.   : 0.200   Min.   :18.60   Min.   :0.600  \n",
       " 1st Qu.: 9.70   1st Qu.: 2.100   1st Qu.:24.30   1st Qu.:3.100  \n",
       " Median :17.50   Median : 3.400   Median :28.00   Median :4.700  \n",
       " Mean   :16.31   Mean   : 4.284   Mean   :32.25   Mean   :4.276  \n",
       " 3rd Qu.:20.60   3rd Qu.: 5.800   3rd Qu.:40.10   3rd Qu.:5.700  \n",
       " Max.   :33.70   Max.   :14.200   Max.   :56.70   Max.   :6.500  \n",
       "      Nuts       fruits and vegetables\n",
       " Min.   :0.700   Min.   :1.400        \n",
       " 1st Qu.:1.500   1st Qu.:2.900        \n",
       " Median :2.400   Median :3.800        \n",
       " Mean   :3.072   Mean   :4.136        \n",
       " 3rd Qu.:4.700   3rd Qu.:4.900        \n",
       " Max.   :7.800   Max.   :7.900        "
      ]
     },
     "metadata": {},
     "output_type": "display_data"
    }
   ],
   "source": [
    "summary(protein)"
   ]
  },
  {
   "cell_type": "markdown",
   "metadata": {},
   "source": [
    "### <span style='color:gray'>1.1_ Identify the principal components\n",
    "##### <span style='color:tan'> principal components using the correlation matrix ,the important variables underlying those components and the relationship between them.PCA is a useful statistical method that has found application in a variety of fields and is a common technique for finding patterns in data of high dimension.\n",
    "##### <span style='color:tan'> Because PCA works best with numerical data, we will exclude the categorical variable\"country\". we are left with 9 columns and 25 obs"
   ]
  },
  {
   "cell_type": "markdown",
   "metadata": {},
   "source": [
    "### <span style='color:darkgoldenrod'> Manually"
   ]
  },
  {
   "cell_type": "markdown",
   "metadata": {},
   "source": [
    "##### <span style='color:tan'> the steps to find PCA Manually\n",
    "   ##### <span style='color:tan'> 1. at first we will find the corlation matrix for the data \n",
    "  ##### <span style='color:tan'>  2. we find the eigenvalues and eigenvectors \n",
    "   ##### <span style='color:tan'> 3. than by dividing the round of Eigenvalues by sum Eigenvalues we get Proportion of Variance\n",
    "   ##### <span style='color:tan'> 4. by dividing the round of cumsum Eigenvalues by sum Eigenvalues we get Cumulative Proportion\n",
    "  "
   ]
  },
  {
   "cell_type": "code",
   "execution_count": 45,
   "metadata": {},
   "outputs": [
    {
     "data": {
      "text/html": [
       "<table>\n",
       "<thead><tr><th></th><th scope=col>Red Meat</th><th scope=col>White Meat</th><th scope=col>Eggs</th><th scope=col>Milk</th><th scope=col>Fish</th><th scope=col>Cereal</th><th scope=col>Starch</th><th scope=col>Nuts</th><th scope=col>fruits and vegetables</th></tr></thead>\n",
       "<tbody>\n",
       "\t<tr><th scope=row>Red Meat</th><td> 1.00000000</td><td> 0.1530027 </td><td> 0.58560895</td><td> 0.48457425</td><td> 0.06095745</td><td>-0.49987746</td><td> 0.13542594</td><td>-0.3494486 </td><td>-0.07422123</td></tr>\n",
       "\t<tr><th scope=row>White Meat</th><td> 0.15300271</td><td> 1.0000000 </td><td> 0.62040916</td><td> 0.27552855</td><td>-0.23400923</td><td>-0.41379691</td><td> 0.31377205</td><td>-0.6349618 </td><td>-0.06131670</td></tr>\n",
       "\t<tr><th scope=row>Eggs</th><td> 0.58560895</td><td> 0.6204092 </td><td> 1.00000000</td><td> 0.50000926</td><td> 0.06557136</td><td>-0.71243682</td><td> 0.45223071</td><td>-0.5597810 </td><td>-0.04551755</td></tr>\n",
       "\t<tr><th scope=row>Milk</th><td> 0.48457425</td><td> 0.2755285 </td><td> 0.50000926</td><td> 1.00000000</td><td> 0.02617651</td><td>-0.44206103</td><td> 0.25540615</td><td>-0.5058055 </td><td>-0.26096403</td></tr>\n",
       "\t<tr><th scope=row>Fish</th><td> 0.06095745</td><td>-0.2340092 </td><td> 0.06557136</td><td> 0.02617651</td><td> 1.00000000</td><td>-0.52423080</td><td> 0.40385286</td><td>-0.1471529 </td><td> 0.26613865</td></tr>\n",
       "\t<tr><th scope=row>Cereal</th><td>-0.49987746</td><td>-0.4137969 </td><td>-0.71243682</td><td>-0.44206103</td><td>-0.52423080</td><td> 1.00000000</td><td>-0.53326231</td><td> 0.6509973 </td><td> 0.04654808</td></tr>\n",
       "\t<tr><th scope=row>Starch</th><td> 0.13542594</td><td> 0.3137721 </td><td> 0.45223071</td><td> 0.25540615</td><td> 0.40385286</td><td>-0.53326231</td><td> 1.00000000</td><td>-0.4743116 </td><td> 0.08440956</td></tr>\n",
       "\t<tr><th scope=row>Nuts</th><td>-0.34944855</td><td>-0.6349618 </td><td>-0.55978097</td><td>-0.50580550</td><td>-0.14715294</td><td> 0.65099727</td><td>-0.47431155</td><td> 1.0000000 </td><td> 0.37496971</td></tr>\n",
       "\t<tr><th scope=row>fruits and vegetables</th><td>-0.07422123</td><td>-0.0613167 </td><td>-0.04551755</td><td>-0.26096403</td><td> 0.26613865</td><td> 0.04654808</td><td> 0.08440956</td><td> 0.3749697 </td><td> 1.00000000</td></tr>\n",
       "</tbody>\n",
       "</table>\n"
      ],
      "text/latex": [
       "\\begin{tabular}{r|lllllllll}\n",
       "  & Red Meat & White Meat & Eggs & Milk & Fish & Cereal & Starch & Nuts & fruits and vegetables\\\\\n",
       "\\hline\n",
       "\tRed Meat &  1.00000000 &  0.1530027  &  0.58560895 &  0.48457425 &  0.06095745 & -0.49987746 &  0.13542594 & -0.3494486  & -0.07422123\\\\\n",
       "\tWhite Meat &  0.15300271 &  1.0000000  &  0.62040916 &  0.27552855 & -0.23400923 & -0.41379691 &  0.31377205 & -0.6349618  & -0.06131670\\\\\n",
       "\tEggs &  0.58560895 &  0.6204092  &  1.00000000 &  0.50000926 &  0.06557136 & -0.71243682 &  0.45223071 & -0.5597810  & -0.04551755\\\\\n",
       "\tMilk &  0.48457425 &  0.2755285  &  0.50000926 &  1.00000000 &  0.02617651 & -0.44206103 &  0.25540615 & -0.5058055  & -0.26096403\\\\\n",
       "\tFish &  0.06095745 & -0.2340092  &  0.06557136 &  0.02617651 &  1.00000000 & -0.52423080 &  0.40385286 & -0.1471529  &  0.26613865\\\\\n",
       "\tCereal & -0.49987746 & -0.4137969  & -0.71243682 & -0.44206103 & -0.52423080 &  1.00000000 & -0.53326231 &  0.6509973  &  0.04654808\\\\\n",
       "\tStarch &  0.13542594 &  0.3137721  &  0.45223071 &  0.25540615 &  0.40385286 & -0.53326231 &  1.00000000 & -0.4743116  &  0.08440956\\\\\n",
       "\tNuts & -0.34944855 & -0.6349618  & -0.55978097 & -0.50580550 & -0.14715294 &  0.65099727 & -0.47431155 &  1.0000000  &  0.37496971\\\\\n",
       "\tfruits and vegetables & -0.07422123 & -0.0613167  & -0.04551755 & -0.26096403 &  0.26613865 &  0.04654808 &  0.08440956 &  0.3749697  &  1.00000000\\\\\n",
       "\\end{tabular}\n"
      ],
      "text/markdown": [
       "\n",
       "| <!--/--> | Red Meat | White Meat | Eggs | Milk | Fish | Cereal | Starch | Nuts | fruits and vegetables |\n",
       "|---|---|---|---|---|---|---|---|---|---|\n",
       "| Red Meat |  1.00000000 |  0.1530027  |  0.58560895 |  0.48457425 |  0.06095745 | -0.49987746 |  0.13542594 | -0.3494486  | -0.07422123 |\n",
       "| White Meat |  0.15300271 |  1.0000000  |  0.62040916 |  0.27552855 | -0.23400923 | -0.41379691 |  0.31377205 | -0.6349618  | -0.06131670 |\n",
       "| Eggs |  0.58560895 |  0.6204092  |  1.00000000 |  0.50000926 |  0.06557136 | -0.71243682 |  0.45223071 | -0.5597810  | -0.04551755 |\n",
       "| Milk |  0.48457425 |  0.2755285  |  0.50000926 |  1.00000000 |  0.02617651 | -0.44206103 |  0.25540615 | -0.5058055  | -0.26096403 |\n",
       "| Fish |  0.06095745 | -0.2340092  |  0.06557136 |  0.02617651 |  1.00000000 | -0.52423080 |  0.40385286 | -0.1471529  |  0.26613865 |\n",
       "| Cereal | -0.49987746 | -0.4137969  | -0.71243682 | -0.44206103 | -0.52423080 |  1.00000000 | -0.53326231 |  0.6509973  |  0.04654808 |\n",
       "| Starch |  0.13542594 |  0.3137721  |  0.45223071 |  0.25540615 |  0.40385286 | -0.53326231 |  1.00000000 | -0.4743116  |  0.08440956 |\n",
       "| Nuts | -0.34944855 | -0.6349618  | -0.55978097 | -0.50580550 | -0.14715294 |  0.65099727 | -0.47431155 |  1.0000000  |  0.37496971 |\n",
       "| fruits and vegetables | -0.07422123 | -0.0613167  | -0.04551755 | -0.26096403 |  0.26613865 |  0.04654808 |  0.08440956 |  0.3749697  |  1.00000000 |\n",
       "\n"
      ],
      "text/plain": [
       "                      Red Meat    White Meat Eggs        Milk       \n",
       "Red Meat               1.00000000  0.1530027  0.58560895  0.48457425\n",
       "White Meat             0.15300271  1.0000000  0.62040916  0.27552855\n",
       "Eggs                   0.58560895  0.6204092  1.00000000  0.50000926\n",
       "Milk                   0.48457425  0.2755285  0.50000926  1.00000000\n",
       "Fish                   0.06095745 -0.2340092  0.06557136  0.02617651\n",
       "Cereal                -0.49987746 -0.4137969 -0.71243682 -0.44206103\n",
       "Starch                 0.13542594  0.3137721  0.45223071  0.25540615\n",
       "Nuts                  -0.34944855 -0.6349618 -0.55978097 -0.50580550\n",
       "fruits and vegetables -0.07422123 -0.0613167 -0.04551755 -0.26096403\n",
       "                      Fish        Cereal      Starch      Nuts      \n",
       "Red Meat               0.06095745 -0.49987746  0.13542594 -0.3494486\n",
       "White Meat            -0.23400923 -0.41379691  0.31377205 -0.6349618\n",
       "Eggs                   0.06557136 -0.71243682  0.45223071 -0.5597810\n",
       "Milk                   0.02617651 -0.44206103  0.25540615 -0.5058055\n",
       "Fish                   1.00000000 -0.52423080  0.40385286 -0.1471529\n",
       "Cereal                -0.52423080  1.00000000 -0.53326231  0.6509973\n",
       "Starch                 0.40385286 -0.53326231  1.00000000 -0.4743116\n",
       "Nuts                  -0.14715294  0.65099727 -0.47431155  1.0000000\n",
       "fruits and vegetables  0.26613865  0.04654808  0.08440956  0.3749697\n",
       "                      fruits and vegetables\n",
       "Red Meat              -0.07422123          \n",
       "White Meat            -0.06131670          \n",
       "Eggs                  -0.04551755          \n",
       "Milk                  -0.26096403          \n",
       "Fish                   0.26613865          \n",
       "Cereal                 0.04654808          \n",
       "Starch                 0.08440956          \n",
       "Nuts                   0.37496971          \n",
       "fruits and vegetables  1.00000000          "
      ]
     },
     "metadata": {},
     "output_type": "display_data"
    }
   ],
   "source": [
    "cor(protein[,-1])"
   ]
  },
  {
   "cell_type": "code",
   "execution_count": 49,
   "metadata": {},
   "outputs": [
    {
     "data": {
      "text/html": [
       "<ol class=list-inline>\n",
       "\t<li>3.88155846004561</li>\n",
       "\t<li>1.63456720227241</li>\n",
       "\t<li>1.06020090220391</li>\n",
       "\t<li>0.955395535152015</li>\n",
       "\t<li>0.531235858931397</li>\n",
       "\t<li>0.426464670843065</li>\n",
       "\t<li>0.287639708357343</li>\n",
       "\t<li>0.118335899593856</li>\n",
       "\t<li>0.104601762600387</li>\n",
       "</ol>\n"
      ],
      "text/latex": [
       "\\begin{enumerate*}\n",
       "\\item 3.88155846004561\n",
       "\\item 1.63456720227241\n",
       "\\item 1.06020090220391\n",
       "\\item 0.955395535152015\n",
       "\\item 0.531235858931397\n",
       "\\item 0.426464670843065\n",
       "\\item 0.287639708357343\n",
       "\\item 0.118335899593856\n",
       "\\item 0.104601762600387\n",
       "\\end{enumerate*}\n"
      ],
      "text/markdown": [
       "1. 3.88155846004561\n",
       "2. 1.63456720227241\n",
       "3. 1.06020090220391\n",
       "4. 0.955395535152015\n",
       "5. 0.531235858931397\n",
       "6. 0.426464670843065\n",
       "7. 0.287639708357343\n",
       "8. 0.118335899593856\n",
       "9. 0.104601762600387\n",
       "\n",
       "\n"
      ],
      "text/plain": [
       "[1] 3.8815585 1.6345672 1.0602009 0.9553955 0.5312359 0.4264647 0.2876397\n",
       "[8] 0.1183359 0.1046018"
      ]
     },
     "metadata": {},
     "output_type": "display_data"
    },
    {
     "data": {
      "text/html": [
       "<table>\n",
       "<tbody>\n",
       "\t<tr><td>-0.3097482  </td><td> 0.06597175 </td><td>-0.51511760 </td><td>-0.46382164 </td><td>-0.2011695  </td><td> 0.3320790  </td><td> 0.44948607 </td><td> 0.044366706</td><td>-0.25391992 </td></tr>\n",
       "\t<tr><td>-0.3242371  </td><td> 0.26023489 </td><td> 0.60620736 </td><td>-0.14196192 </td><td>-0.1179686  </td><td>-0.2453928  </td><td> 0.07085976 </td><td> 0.108072325</td><td>-0.59048506 </td></tr>\n",
       "\t<tr><td>-0.4356002  </td><td> 0.04921056 </td><td> 0.07864397 </td><td>-0.32605111 </td><td>-0.1014603  </td><td> 0.1834209  </td><td>-0.57015331 </td><td>-0.536011473</td><td> 0.19752481 </td></tr>\n",
       "\t<tr><td>-0.3375943  </td><td> 0.19182069 </td><td>-0.36708729 </td><td>-0.01350964 </td><td> 0.7150679  </td><td>-0.4303987  </td><td>-0.10237969 </td><td> 0.046233269</td><td>-0.07151918 </td></tr>\n",
       "\t<tr><td>-0.1300092  </td><td>-0.66708007 </td><td>-0.21250506 </td><td> 0.28338151 </td><td>-0.1751990  </td><td>-0.2750701  </td><td>-0.02442142 </td><td>-0.351425146</td><td>-0.42683018 </td></tr>\n",
       "\t<tr><td> 0.4385563  </td><td> 0.24052196 </td><td> 0.08082681 </td><td>-0.04959222 </td><td> 0.3268877  </td><td> 0.1435739  </td><td> 0.27057136 </td><td>-0.688045876</td><td>-0.25834115 </td></tr>\n",
       "\t<tr><td>-0.3143399  </td><td>-0.33404488 </td><td> 0.28189810 </td><td> 0.24125906 </td><td> 0.4714638  </td><td> 0.6337001  </td><td> 0.09750212 </td><td> 0.118457894</td><td>-0.06737301 </td></tr>\n",
       "\t<tr><td> 0.4224730  </td><td>-0.14009678 </td><td>-0.12626640 </td><td>-0.33775943 </td><td> 0.1396997  </td><td> 0.1979712  </td><td>-0.55720360 </td><td> 0.293178898</td><td>-0.46553895 </td></tr>\n",
       "\t<tr><td> 0.0931764  </td><td>-0.50462753 </td><td> 0.28129597 </td><td>-0.63495877 </td><td> 0.2113138  </td><td>-0.2712456  </td><td> 0.25218441 </td><td> 0.003640526</td><td> 0.26931625 </td></tr>\n",
       "</tbody>\n",
       "</table>\n"
      ],
      "text/latex": [
       "\\begin{tabular}{lllllllll}\n",
       "\t -0.3097482   &  0.06597175  & -0.51511760  & -0.46382164  & -0.2011695   &  0.3320790   &  0.44948607  &  0.044366706 & -0.25391992 \\\\\n",
       "\t -0.3242371   &  0.26023489  &  0.60620736  & -0.14196192  & -0.1179686   & -0.2453928   &  0.07085976  &  0.108072325 & -0.59048506 \\\\\n",
       "\t -0.4356002   &  0.04921056  &  0.07864397  & -0.32605111  & -0.1014603   &  0.1834209   & -0.57015331  & -0.536011473 &  0.19752481 \\\\\n",
       "\t -0.3375943   &  0.19182069  & -0.36708729  & -0.01350964  &  0.7150679   & -0.4303987   & -0.10237969  &  0.046233269 & -0.07151918 \\\\\n",
       "\t -0.1300092   & -0.66708007  & -0.21250506  &  0.28338151  & -0.1751990   & -0.2750701   & -0.02442142  & -0.351425146 & -0.42683018 \\\\\n",
       "\t  0.4385563   &  0.24052196  &  0.08082681  & -0.04959222  &  0.3268877   &  0.1435739   &  0.27057136  & -0.688045876 & -0.25834115 \\\\\n",
       "\t -0.3143399   & -0.33404488  &  0.28189810  &  0.24125906  &  0.4714638   &  0.6337001   &  0.09750212  &  0.118457894 & -0.06737301 \\\\\n",
       "\t  0.4224730   & -0.14009678  & -0.12626640  & -0.33775943  &  0.1396997   &  0.1979712   & -0.55720360  &  0.293178898 & -0.46553895 \\\\\n",
       "\t  0.0931764   & -0.50462753  &  0.28129597  & -0.63495877  &  0.2113138   & -0.2712456   &  0.25218441  &  0.003640526 &  0.26931625 \\\\\n",
       "\\end{tabular}\n"
      ],
      "text/markdown": [
       "\n",
       "| -0.3097482   |  0.06597175  | -0.51511760  | -0.46382164  | -0.2011695   |  0.3320790   |  0.44948607  |  0.044366706 | -0.25391992  |\n",
       "| -0.3242371   |  0.26023489  |  0.60620736  | -0.14196192  | -0.1179686   | -0.2453928   |  0.07085976  |  0.108072325 | -0.59048506  |\n",
       "| -0.4356002   |  0.04921056  |  0.07864397  | -0.32605111  | -0.1014603   |  0.1834209   | -0.57015331  | -0.536011473 |  0.19752481  |\n",
       "| -0.3375943   |  0.19182069  | -0.36708729  | -0.01350964  |  0.7150679   | -0.4303987   | -0.10237969  |  0.046233269 | -0.07151918  |\n",
       "| -0.1300092   | -0.66708007  | -0.21250506  |  0.28338151  | -0.1751990   | -0.2750701   | -0.02442142  | -0.351425146 | -0.42683018  |\n",
       "|  0.4385563   |  0.24052196  |  0.08082681  | -0.04959222  |  0.3268877   |  0.1435739   |  0.27057136  | -0.688045876 | -0.25834115  |\n",
       "| -0.3143399   | -0.33404488  |  0.28189810  |  0.24125906  |  0.4714638   |  0.6337001   |  0.09750212  |  0.118457894 | -0.06737301  |\n",
       "|  0.4224730   | -0.14009678  | -0.12626640  | -0.33775943  |  0.1396997   |  0.1979712   | -0.55720360  |  0.293178898 | -0.46553895  |\n",
       "|  0.0931764   | -0.50462753  |  0.28129597  | -0.63495877  |  0.2113138   | -0.2712456   |  0.25218441  |  0.003640526 |  0.26931625  |\n",
       "\n"
      ],
      "text/plain": [
       "      [,1]       [,2]        [,3]        [,4]        [,5]       [,6]      \n",
       " [1,] -0.3097482  0.06597175 -0.51511760 -0.46382164 -0.2011695  0.3320790\n",
       " [2,] -0.3242371  0.26023489  0.60620736 -0.14196192 -0.1179686 -0.2453928\n",
       " [3,] -0.4356002  0.04921056  0.07864397 -0.32605111 -0.1014603  0.1834209\n",
       " [4,] -0.3375943  0.19182069 -0.36708729 -0.01350964  0.7150679 -0.4303987\n",
       " [5,] -0.1300092 -0.66708007 -0.21250506  0.28338151 -0.1751990 -0.2750701\n",
       " [6,]  0.4385563  0.24052196  0.08082681 -0.04959222  0.3268877  0.1435739\n",
       " [7,] -0.3143399 -0.33404488  0.28189810  0.24125906  0.4714638  0.6337001\n",
       " [8,]  0.4224730 -0.14009678 -0.12626640 -0.33775943  0.1396997  0.1979712\n",
       " [9,]  0.0931764 -0.50462753  0.28129597 -0.63495877  0.2113138 -0.2712456\n",
       "      [,7]        [,8]         [,9]       \n",
       " [1,]  0.44948607  0.044366706 -0.25391992\n",
       " [2,]  0.07085976  0.108072325 -0.59048506\n",
       " [3,] -0.57015331 -0.536011473  0.19752481\n",
       " [4,] -0.10237969  0.046233269 -0.07151918\n",
       " [5,] -0.02442142 -0.351425146 -0.42683018\n",
       " [6,]  0.27057136 -0.688045876 -0.25834115\n",
       " [7,]  0.09750212  0.118457894 -0.06737301\n",
       " [8,] -0.55720360  0.293178898 -0.46553895\n",
       " [9,]  0.25218441  0.003640526  0.26931625"
      ]
     },
     "metadata": {},
     "output_type": "display_data"
    }
   ],
   "source": [
    "Eigenvalues <- eigen(cor(protein[,-1]))$values;Eigenvalues\n",
    "Eigenvectors <- eigen(cor(protein[,-1]))$vectors;Eigenvectors\n"
   ]
  },
  {
   "cell_type": "code",
   "execution_count": 52,
   "metadata": {},
   "outputs": [
    {
     "data": {
      "text/html": [
       "<table>\n",
       "<tbody>\n",
       "\t<tr><td> 1.00000000</td><td> 0.3208029 </td><td> 0.52847245</td><td>-0.06498765</td><td> 0.09059303</td><td> 0.8405323 </td><td> 0.7348962 </td><td>-0.9404086 </td><td>-0.4494103 </td></tr>\n",
       "\t<tr><td> 0.32080286</td><td> 1.0000000 </td><td> 0.18116240</td><td>-0.38556397</td><td> 0.61769986</td><td> 0.1815016 </td><td> 0.5483145 </td><td>-0.4759052 </td><td>-0.5892502 </td></tr>\n",
       "\t<tr><td> 0.52847245</td><td> 0.1811624 </td><td> 1.00000000</td><td> 0.03177994</td><td>-0.31054484</td><td> 0.5286890 </td><td> 0.3809148 </td><td>-0.4258922 </td><td>-0.3358082 </td></tr>\n",
       "\t<tr><td>-0.06498765</td><td>-0.3855640 </td><td> 0.03177994</td><td> 1.00000000</td><td>-0.18945910</td><td>-0.1540858 </td><td>-0.4055560 </td><td> 0.1082053 </td><td> 0.3459366 </td></tr>\n",
       "\t<tr><td> 0.09059303</td><td> 0.6176999 </td><td>-0.31054484</td><td>-0.18945910</td><td> 1.00000000</td><td>-0.2399557 </td><td> 0.2308171 </td><td>-0.3398203 </td><td>-0.4701100 </td></tr>\n",
       "\t<tr><td> 0.84053231</td><td> 0.1815016 </td><td> 0.52868900</td><td>-0.15408576</td><td>-0.23995574</td><td> 1.0000000 </td><td> 0.7147249 </td><td>-0.7287427 </td><td>-0.2690467 </td></tr>\n",
       "\t<tr><td> 0.73489619</td><td> 0.5483145 </td><td> 0.38091478</td><td>-0.40555604</td><td> 0.23081708</td><td> 0.7147249 </td><td> 1.0000000 </td><td>-0.8289232 </td><td>-0.6685915 </td></tr>\n",
       "\t<tr><td>-0.94040855</td><td>-0.4759052 </td><td>-0.42589223</td><td> 0.10820535</td><td>-0.33982032</td><td>-0.7287427 </td><td>-0.8289232 </td><td> 1.0000000 </td><td> 0.6424546 </td></tr>\n",
       "\t<tr><td>-0.44941029</td><td>-0.5892502 </td><td>-0.33580822</td><td> 0.34593658</td><td>-0.47011002</td><td>-0.2690467 </td><td>-0.6685915 </td><td> 0.6424546 </td><td> 1.0000000 </td></tr>\n",
       "</tbody>\n",
       "</table>\n"
      ],
      "text/latex": [
       "\\begin{tabular}{lllllllll}\n",
       "\t  1.00000000 &  0.3208029  &  0.52847245 & -0.06498765 &  0.09059303 &  0.8405323  &  0.7348962  & -0.9404086  & -0.4494103 \\\\\n",
       "\t  0.32080286 &  1.0000000  &  0.18116240 & -0.38556397 &  0.61769986 &  0.1815016  &  0.5483145  & -0.4759052  & -0.5892502 \\\\\n",
       "\t  0.52847245 &  0.1811624  &  1.00000000 &  0.03177994 & -0.31054484 &  0.5286890  &  0.3809148  & -0.4258922  & -0.3358082 \\\\\n",
       "\t -0.06498765 & -0.3855640  &  0.03177994 &  1.00000000 & -0.18945910 & -0.1540858  & -0.4055560  &  0.1082053  &  0.3459366 \\\\\n",
       "\t  0.09059303 &  0.6176999  & -0.31054484 & -0.18945910 &  1.00000000 & -0.2399557  &  0.2308171  & -0.3398203  & -0.4701100 \\\\\n",
       "\t  0.84053231 &  0.1815016  &  0.52868900 & -0.15408576 & -0.23995574 &  1.0000000  &  0.7147249  & -0.7287427  & -0.2690467 \\\\\n",
       "\t  0.73489619 &  0.5483145  &  0.38091478 & -0.40555604 &  0.23081708 &  0.7147249  &  1.0000000  & -0.8289232  & -0.6685915 \\\\\n",
       "\t -0.94040855 & -0.4759052  & -0.42589223 &  0.10820535 & -0.33982032 & -0.7287427  & -0.8289232  &  1.0000000  &  0.6424546 \\\\\n",
       "\t -0.44941029 & -0.5892502  & -0.33580822 &  0.34593658 & -0.47011002 & -0.2690467  & -0.6685915  &  0.6424546  &  1.0000000 \\\\\n",
       "\\end{tabular}\n"
      ],
      "text/markdown": [
       "\n",
       "|  1.00000000 |  0.3208029  |  0.52847245 | -0.06498765 |  0.09059303 |  0.8405323  |  0.7348962  | -0.9404086  | -0.4494103  |\n",
       "|  0.32080286 |  1.0000000  |  0.18116240 | -0.38556397 |  0.61769986 |  0.1815016  |  0.5483145  | -0.4759052  | -0.5892502  |\n",
       "|  0.52847245 |  0.1811624  |  1.00000000 |  0.03177994 | -0.31054484 |  0.5286890  |  0.3809148  | -0.4258922  | -0.3358082  |\n",
       "| -0.06498765 | -0.3855640  |  0.03177994 |  1.00000000 | -0.18945910 | -0.1540858  | -0.4055560  |  0.1082053  |  0.3459366  |\n",
       "|  0.09059303 |  0.6176999  | -0.31054484 | -0.18945910 |  1.00000000 | -0.2399557  |  0.2308171  | -0.3398203  | -0.4701100  |\n",
       "|  0.84053231 |  0.1815016  |  0.52868900 | -0.15408576 | -0.23995574 |  1.0000000  |  0.7147249  | -0.7287427  | -0.2690467  |\n",
       "|  0.73489619 |  0.5483145  |  0.38091478 | -0.40555604 |  0.23081708 |  0.7147249  |  1.0000000  | -0.8289232  | -0.6685915  |\n",
       "| -0.94040855 | -0.4759052  | -0.42589223 |  0.10820535 | -0.33982032 | -0.7287427  | -0.8289232  |  1.0000000  |  0.6424546  |\n",
       "| -0.44941029 | -0.5892502  | -0.33580822 |  0.34593658 | -0.47011002 | -0.2690467  | -0.6685915  |  0.6424546  |  1.0000000  |\n",
       "\n"
      ],
      "text/plain": [
       "      [,1]        [,2]       [,3]        [,4]        [,5]        [,6]      \n",
       " [1,]  1.00000000  0.3208029  0.52847245 -0.06498765  0.09059303  0.8405323\n",
       " [2,]  0.32080286  1.0000000  0.18116240 -0.38556397  0.61769986  0.1815016\n",
       " [3,]  0.52847245  0.1811624  1.00000000  0.03177994 -0.31054484  0.5286890\n",
       " [4,] -0.06498765 -0.3855640  0.03177994  1.00000000 -0.18945910 -0.1540858\n",
       " [5,]  0.09059303  0.6176999 -0.31054484 -0.18945910  1.00000000 -0.2399557\n",
       " [6,]  0.84053231  0.1815016  0.52868900 -0.15408576 -0.23995574  1.0000000\n",
       " [7,]  0.73489619  0.5483145  0.38091478 -0.40555604  0.23081708  0.7147249\n",
       " [8,] -0.94040855 -0.4759052 -0.42589223  0.10820535 -0.33982032 -0.7287427\n",
       " [9,] -0.44941029 -0.5892502 -0.33580822  0.34593658 -0.47011002 -0.2690467\n",
       "      [,7]       [,8]       [,9]      \n",
       " [1,]  0.7348962 -0.9404086 -0.4494103\n",
       " [2,]  0.5483145 -0.4759052 -0.5892502\n",
       " [3,]  0.3809148 -0.4258922 -0.3358082\n",
       " [4,] -0.4055560  0.1082053  0.3459366\n",
       " [5,]  0.2308171 -0.3398203 -0.4701100\n",
       " [6,]  0.7147249 -0.7287427 -0.2690467\n",
       " [7,]  1.0000000 -0.8289232 -0.6685915\n",
       " [8,] -0.8289232  1.0000000  0.6424546\n",
       " [9,] -0.6685915  0.6424546  1.0000000"
      ]
     },
     "metadata": {},
     "output_type": "display_data"
    }
   ],
   "source": [
    "PC <- as.matrix(protein[,-1]) %*% Eigenvectors\n",
    "cor(PC)"
   ]
  },
  {
   "cell_type": "code",
   "execution_count": 53,
   "metadata": {},
   "outputs": [
    {
     "name": "stdout",
     "output_type": "stream",
     "text": [
      "[1] 43.13 18.16 11.78 10.62  5.90  4.74  3.20  1.31  1.16\n"
     ]
    }
   ],
   "source": [
    "print(round(Eigenvalues/sum(Eigenvalues) * 100, digits = 2))"
   ]
  },
  {
   "cell_type": "code",
   "execution_count": 54,
   "metadata": {},
   "outputs": [
    {
     "data": {
      "text/html": [
       "<ol class=list-inline>\n",
       "\t<li>43.13</li>\n",
       "\t<li>61.29</li>\n",
       "\t<li>73.07</li>\n",
       "\t<li>83.69</li>\n",
       "\t<li>89.59</li>\n",
       "\t<li>94.33</li>\n",
       "\t<li>97.52</li>\n",
       "\t<li>98.84</li>\n",
       "\t<li>100</li>\n",
       "</ol>\n"
      ],
      "text/latex": [
       "\\begin{enumerate*}\n",
       "\\item 43.13\n",
       "\\item 61.29\n",
       "\\item 73.07\n",
       "\\item 83.69\n",
       "\\item 89.59\n",
       "\\item 94.33\n",
       "\\item 97.52\n",
       "\\item 98.84\n",
       "\\item 100\n",
       "\\end{enumerate*}\n"
      ],
      "text/markdown": [
       "1. 43.13\n",
       "2. 61.29\n",
       "3. 73.07\n",
       "4. 83.69\n",
       "5. 89.59\n",
       "6. 94.33\n",
       "7. 97.52\n",
       "8. 98.84\n",
       "9. 100\n",
       "\n",
       "\n"
      ],
      "text/plain": [
       "[1]  43.13  61.29  73.07  83.69  89.59  94.33  97.52  98.84 100.00"
      ]
     },
     "metadata": {},
     "output_type": "display_data"
    }
   ],
   "source": [
    "round(cumsum(Eigenvalues)/sum(Eigenvalues) * 100, digits = 2)"
   ]
  },
  {
   "cell_type": "markdown",
   "metadata": {},
   "source": [
    " "
   ]
  },
  {
   "cell_type": "markdown",
   "metadata": {},
   "source": [
    "### <span style='color:darkgoldenrod'> By using package"
   ]
  },
  {
   "cell_type": "markdown",
   "metadata": {},
   "source": [
    "##### <span style='color:tan'> the steps to find PCA by using package \n",
    "   ##### <span style='color:tan'> 1. write the command promp() and give the data with exclude variable\"country\" \n",
    "  ##### <span style='color:tan'>  2. we write the command summary to have Standard deviation,Proportion of Variance and Cumulative Proportion\n",
    " ##### <span style='color:tan'>  we can get the Eigenvalues from this command protein.pca$sdev^2 "
   ]
  },
  {
   "cell_type": "code",
   "execution_count": 6,
   "metadata": {},
   "outputs": [
    {
     "data": {
      "text/plain": [
       "Standard deviations (1, .., p=9):\n",
       "[1] 1.9701671 1.2785019 1.0296606 0.9774434 0.7288593 0.6530426 0.5363205\n",
       "[8] 0.3439999 0.3234220\n",
       "\n",
       "Rotation (n x k) = (9 x 9):\n",
       "                             PC1         PC2         PC3         PC4        PC5\n",
       "Red.Meat              -0.3097482 -0.06597175 -0.51511760 -0.46382164  0.2011695\n",
       "White.Meat            -0.3242371 -0.26023489  0.60620736 -0.14196192  0.1179686\n",
       "Eggs                  -0.4356002 -0.04921056  0.07864397 -0.32605111  0.1014603\n",
       "Milk                  -0.3375943 -0.19182069 -0.36708729 -0.01350964 -0.7150679\n",
       "Fish                  -0.1300092  0.66708007 -0.21250506  0.28338151  0.1751990\n",
       "Cereal                 0.4385563 -0.24052196  0.08082681 -0.04959222 -0.3268877\n",
       "Starch                -0.3143399  0.33404488  0.28189810  0.24125906 -0.4714638\n",
       "Nuts                   0.4224730  0.14009678 -0.12626640 -0.33775943 -0.1396997\n",
       "fruits.and.vegetables  0.0931764  0.50462753  0.28129597 -0.63495877 -0.2113138\n",
       "                             PC6         PC7          PC8         PC9\n",
       "Red.Meat              -0.3320790  0.44948607 -0.044366706  0.25391992\n",
       "White.Meat             0.2453928  0.07085976 -0.108072325  0.59048506\n",
       "Eggs                  -0.1834209 -0.57015331  0.536011473 -0.19752481\n",
       "Milk                   0.4303987 -0.10237969 -0.046233269  0.07151918\n",
       "Fish                   0.2750701 -0.02442142  0.351425146  0.42683018\n",
       "Cereal                -0.1435739  0.27057136  0.688045876  0.25834115\n",
       "Starch                -0.6337001  0.09750212 -0.118457894  0.06737301\n",
       "Nuts                  -0.1979712 -0.55720360 -0.293178898  0.46553895\n",
       "fruits.and.vegetables  0.2712456  0.25218441 -0.003640526 -0.26931625"
      ]
     },
     "metadata": {},
     "output_type": "display_data"
    },
    {
     "data": {
      "text/plain": [
       "Importance of components:\n",
       "                          PC1    PC2    PC3    PC4     PC5     PC6     PC7\n",
       "Standard deviation     1.9702 1.2785 1.0297 0.9774 0.72886 0.65304 0.53632\n",
       "Proportion of Variance 0.4313 0.1816 0.1178 0.1062 0.05903 0.04738 0.03196\n",
       "Cumulative Proportion  0.4313 0.6129 0.7307 0.8369 0.89588 0.94327 0.97523\n",
       "                           PC8     PC9\n",
       "Standard deviation     0.34400 0.32342\n",
       "Proportion of Variance 0.01315 0.01162\n",
       "Cumulative Proportion  0.98838 1.00000"
      ]
     },
     "metadata": {},
     "output_type": "display_data"
    }
   ],
   "source": [
    "protein.pca <-prcomp(protein[,-1] , center = TRUE,scale. = TRUE)\n",
    "protein.pca\n",
    "summary(protein.pca)"
   ]
  },
  {
   "cell_type": "code",
   "execution_count": 220,
   "metadata": {},
   "outputs": [
    {
     "data": {
      "text/html": [
       "<ol class=list-inline>\n",
       "\t<li>3.88155846004562</li>\n",
       "\t<li>1.63456720227242</li>\n",
       "\t<li>1.06020090220391</li>\n",
       "\t<li>0.955395535152016</li>\n",
       "\t<li>0.531235858931398</li>\n",
       "\t<li>0.426464670843066</li>\n",
       "\t<li>0.287639708357343</li>\n",
       "\t<li>0.118335899593856</li>\n",
       "\t<li>0.104601762600387</li>\n",
       "</ol>\n"
      ],
      "text/latex": [
       "\\begin{enumerate*}\n",
       "\\item 3.88155846004562\n",
       "\\item 1.63456720227242\n",
       "\\item 1.06020090220391\n",
       "\\item 0.955395535152016\n",
       "\\item 0.531235858931398\n",
       "\\item 0.426464670843066\n",
       "\\item 0.287639708357343\n",
       "\\item 0.118335899593856\n",
       "\\item 0.104601762600387\n",
       "\\end{enumerate*}\n"
      ],
      "text/markdown": [
       "1. 3.88155846004562\n",
       "2. 1.63456720227242\n",
       "3. 1.06020090220391\n",
       "4. 0.955395535152016\n",
       "5. 0.531235858931398\n",
       "6. 0.426464670843066\n",
       "7. 0.287639708357343\n",
       "8. 0.118335899593856\n",
       "9. 0.104601762600387\n",
       "\n",
       "\n"
      ],
      "text/plain": [
       "[1] 3.8815585 1.6345672 1.0602009 0.9553955 0.5312359 0.4264647 0.2876397\n",
       "[8] 0.1183359 0.1046018"
      ]
     },
     "metadata": {},
     "output_type": "display_data"
    }
   ],
   "source": [
    "protein.pca.var <- protein.pca$sdev^2;protein.pca.var"
   ]
  },
  {
   "cell_type": "markdown",
   "metadata": {},
   "source": [
    "### <span style='color:darkgoldenrod'> Interpretation for PCA \n",
    "##### <span style='color:tan'> We obtain 9 principal components. Each of these explains a percentage of the total variation in the dataset. That is to say: PC1 explains 43.13% of the total variance, which means that nearly halve of the information in the dataset (9 variables) can be encapsulated by just that one Principal Component. PC2 explains 18.16% of the variance.also PC3 explains 11.78% of the variance,also PC3 explains 10.62% of the variance and so on .\n",
    "  ##### <span style='color:tan'>  So, by knowing the position of a sample in relation to just PC1 ,PC2,PC3 and PC5, we can get a very accurate view on where it stands in relation to other samples, thet can explain 89.588% of the variance.\n",
    "   ##### <span style='color:tan'> This suggest that the effective dimension of the protein foods could be 5 and any of the protein foods from our data set can be described by a linear combination of the first 5 loadings, while the relative error being small."
   ]
  },
  {
   "cell_type": "code",
   "execution_count": 160,
   "metadata": {},
   "outputs": [
    {
     "data": {
      "text/plain": [
       "Importance of components:\n",
       "                          PC1    PC2    PC3    PC4     PC5     PC6     PC7\n",
       "Standard deviation     1.9702 1.2785 1.0297 0.9774 0.72886 0.65304 0.53632\n",
       "Proportion of Variance 0.4313 0.1816 0.1178 0.1062 0.05903 0.04738 0.03196\n",
       "Cumulative Proportion  0.4313 0.6129 0.7307 0.8369 0.89588 0.94327 0.97523\n",
       "                           PC8     PC9\n",
       "Standard deviation     0.34400 0.32342\n",
       "Proportion of Variance 0.01315 0.01162\n",
       "Cumulative Proportion  0.98838 1.00000"
      ]
     },
     "metadata": {},
     "output_type": "display_data"
    }
   ],
   "source": [
    "summary(protein.pca)"
   ]
  },
  {
   "cell_type": "markdown",
   "metadata": {},
   "source": [
    "##### <span style='color:tan'> In the first plot shows and explain which Principal Component the have effctive percentage of the total variation in the dataset ,means that the information in the dataset can be encapsulated by one or more Principal Components."
   ]
  },
  {
   "cell_type": "markdown",
   "metadata": {},
   "source": [
    "##### <span style='color:tan'> In the Second  plot In order to better understand the implications of our results, we plot the first 6 loadings.The first and second loading might indicate the trend in the curve.and the shapes of the rest loading does not seem to have an obvious interpretation."
   ]
  },
  {
   "cell_type": "code",
   "execution_count": 171,
   "metadata": {},
   "outputs": [
    {
     "data": {
      "image/png": "[encoded data removed]",
      "text/plain": [
       "Plot with title “principal components”"
      ]
     },
     "metadata": {},
     "output_type": "display_data"
    }
   ],
   "source": [
    "plot(protein.pca,main=\"principal components\",col=\"lightgrey\")"
   ]
  },
  {
   "cell_type": "code",
   "execution_count": 197,
   "metadata": {},
   "outputs": [
    {
     "data": {
      "image/png": "[encoded data removed]",
      "text/plain": [
       "plot without title"
      ]
     },
     "metadata": {},
     "output_type": "display_data"
    },
    {
     "data": {
      "image/png": "[encoded data removed]",
      "text/plain": [
       "plot without title"
      ]
     },
     "metadata": {},
     "output_type": "display_data"
    }
   ],
   "source": [
    "par(mfrow = c(2,2))\n",
    "plot(protein.pca$rotation[, 1], ylim = c(-1, 1))\n",
    "plot(protein.pca$rotation[, 2], ylim = c(-1, 1))\n",
    "plot(protein.pca$rotation[, 3], ylim = c(-1, 1))\n",
    "plot(protein.pca$rotation[, 4], ylim = c(-1, 1))\n",
    "plot(protein.pca$rotation[, 5], ylim = c(-1, 1))\n",
    "plot(protein.pca$rotation[, 6], ylim = c(-1, 1))"
   ]
  },
  {
   "cell_type": "markdown",
   "metadata": {},
   "source": [
    "##### <span style='color:tan'> we can see the relation between the PC's,for example PC1 and PC2 =0.091 is weak Positive relation,and the PC4 with PC9 have a Positive relation=0.367 ,also PC5 and PC4 have a negative relation=-0.256."
   ]
  },
  {
   "cell_type": "code",
   "execution_count": 26,
   "metadata": {},
   "outputs": [
    {
     "data": {
      "text/html": [
       "<table>\n",
       "<thead><tr><th></th><th scope=col>PC1</th><th scope=col>PC2</th><th scope=col>PC3</th><th scope=col>PC4</th><th scope=col>PC5</th><th scope=col>PC6</th><th scope=col>PC7</th><th scope=col>PC8</th><th scope=col>PC9</th></tr></thead>\n",
       "<tbody>\n",
       "\t<tr><th scope=row>PC1</th><td> 1.00000000 </td><td> 0.09119969 </td><td> 0.011280906</td><td>-0.17197639 </td><td>-0.14627747 </td><td>-0.028182122</td><td>-0.011873344</td><td> 0.10606206 </td><td> 0.20952881 </td></tr>\n",
       "\t<tr><th scope=row>PC2</th><td> 0.09119969 </td><td> 1.00000000 </td><td>-0.010470768</td><td> 0.15962590 </td><td> 0.13577255 </td><td> 0.026158222</td><td> 0.011020660</td><td>-0.09844521 </td><td>-0.19448149 </td></tr>\n",
       "\t<tr><th scope=row>PC3</th><td> 0.01128091 </td><td>-0.01047077 </td><td> 1.000000000</td><td> 0.01974486 </td><td> 0.01679433 </td><td> 0.003235630</td><td> 0.001363196</td><td>-0.01217714 </td><td>-0.02405630 </td></tr>\n",
       "\t<tr><th scope=row>PC4</th><td>-0.17197639 </td><td> 0.15962590 </td><td> 0.019744857</td><td> 1.00000000 </td><td>-0.25602798 </td><td>-0.049326884</td><td>-0.020781795</td><td> 0.18563936 </td><td> 0.36673617 </td></tr>\n",
       "\t<tr><th scope=row>PC5</th><td>-0.14627747 </td><td> 0.13577255 </td><td> 0.016794327</td><td>-0.25602798 </td><td> 1.00000000 </td><td>-0.041955828</td><td>-0.017676312</td><td> 0.15789874 </td><td> 0.31193374 </td></tr>\n",
       "\t<tr><th scope=row>PC6</th><td>-0.02818212 </td><td> 0.02615822 </td><td> 0.003235630</td><td>-0.04932688 </td><td>-0.04195583 </td><td> 1.000000000</td><td>-0.003405555</td><td> 0.03042110 </td><td> 0.06009780 </td></tr>\n",
       "\t<tr><th scope=row>PC7</th><td>-0.01187334 </td><td> 0.01102066 </td><td> 0.001363196</td><td>-0.02078179 </td><td>-0.01767631 </td><td>-0.003405555</td><td> 1.000000000</td><td> 0.01281664 </td><td> 0.02531967 </td></tr>\n",
       "\t<tr><th scope=row>PC8</th><td> 0.10606206 </td><td>-0.09844521 </td><td>-0.012177138</td><td> 0.18563936 </td><td> 0.15789874 </td><td> 0.030421101</td><td> 0.012816643</td><td> 1.00000000 </td><td>-0.22617520 </td></tr>\n",
       "\t<tr><th scope=row>PC9</th><td> 0.20952881 </td><td>-0.19448149 </td><td>-0.024056305</td><td> 0.36673617 </td><td> 0.31193374 </td><td> 0.060097804</td><td> 0.025319666</td><td>-0.22617520 </td><td> 1.00000000 </td></tr>\n",
       "</tbody>\n",
       "</table>\n"
      ],
      "text/latex": [
       "\\begin{tabular}{r|lllllllll}\n",
       "  & PC1 & PC2 & PC3 & PC4 & PC5 & PC6 & PC7 & PC8 & PC9\\\\\n",
       "\\hline\n",
       "\tPC1 &  1.00000000  &  0.09119969  &  0.011280906 & -0.17197639  & -0.14627747  & -0.028182122 & -0.011873344 &  0.10606206  &  0.20952881 \\\\\n",
       "\tPC2 &  0.09119969  &  1.00000000  & -0.010470768 &  0.15962590  &  0.13577255  &  0.026158222 &  0.011020660 & -0.09844521  & -0.19448149 \\\\\n",
       "\tPC3 &  0.01128091  & -0.01047077  &  1.000000000 &  0.01974486  &  0.01679433  &  0.003235630 &  0.001363196 & -0.01217714  & -0.02405630 \\\\\n",
       "\tPC4 & -0.17197639  &  0.15962590  &  0.019744857 &  1.00000000  & -0.25602798  & -0.049326884 & -0.020781795 &  0.18563936  &  0.36673617 \\\\\n",
       "\tPC5 & -0.14627747  &  0.13577255  &  0.016794327 & -0.25602798  &  1.00000000  & -0.041955828 & -0.017676312 &  0.15789874  &  0.31193374 \\\\\n",
       "\tPC6 & -0.02818212  &  0.02615822  &  0.003235630 & -0.04932688  & -0.04195583  &  1.000000000 & -0.003405555 &  0.03042110  &  0.06009780 \\\\\n",
       "\tPC7 & -0.01187334  &  0.01102066  &  0.001363196 & -0.02078179  & -0.01767631  & -0.003405555 &  1.000000000 &  0.01281664  &  0.02531967 \\\\\n",
       "\tPC8 &  0.10606206  & -0.09844521  & -0.012177138 &  0.18563936  &  0.15789874  &  0.030421101 &  0.012816643 &  1.00000000  & -0.22617520 \\\\\n",
       "\tPC9 &  0.20952881  & -0.19448149  & -0.024056305 &  0.36673617  &  0.31193374  &  0.060097804 &  0.025319666 & -0.22617520  &  1.00000000 \\\\\n",
       "\\end{tabular}\n"
      ],
      "text/markdown": [
       "\n",
       "| <!--/--> | PC1 | PC2 | PC3 | PC4 | PC5 | PC6 | PC7 | PC8 | PC9 |\n",
       "|---|---|---|---|---|---|---|---|---|---|\n",
       "| PC1 |  1.00000000  |  0.09119969  |  0.011280906 | -0.17197639  | -0.14627747  | -0.028182122 | -0.011873344 |  0.10606206  |  0.20952881  |\n",
       "| PC2 |  0.09119969  |  1.00000000  | -0.010470768 |  0.15962590  |  0.13577255  |  0.026158222 |  0.011020660 | -0.09844521  | -0.19448149  |\n",
       "| PC3 |  0.01128091  | -0.01047077  |  1.000000000 |  0.01974486  |  0.01679433  |  0.003235630 |  0.001363196 | -0.01217714  | -0.02405630  |\n",
       "| PC4 | -0.17197639  |  0.15962590  |  0.019744857 |  1.00000000  | -0.25602798  | -0.049326884 | -0.020781795 |  0.18563936  |  0.36673617  |\n",
       "| PC5 | -0.14627747  |  0.13577255  |  0.016794327 | -0.25602798  |  1.00000000  | -0.041955828 | -0.017676312 |  0.15789874  |  0.31193374  |\n",
       "| PC6 | -0.02818212  |  0.02615822  |  0.003235630 | -0.04932688  | -0.04195583  |  1.000000000 | -0.003405555 |  0.03042110  |  0.06009780  |\n",
       "| PC7 | -0.01187334  |  0.01102066  |  0.001363196 | -0.02078179  | -0.01767631  | -0.003405555 |  1.000000000 |  0.01281664  |  0.02531967  |\n",
       "| PC8 |  0.10606206  | -0.09844521  | -0.012177138 |  0.18563936  |  0.15789874  |  0.030421101 |  0.012816643 |  1.00000000  | -0.22617520  |\n",
       "| PC9 |  0.20952881  | -0.19448149  | -0.024056305 |  0.36673617  |  0.31193374  |  0.060097804 |  0.025319666 | -0.22617520  |  1.00000000  |\n",
       "\n"
      ],
      "text/plain": [
       "    PC1         PC2         PC3          PC4         PC5         PC6         \n",
       "PC1  1.00000000  0.09119969  0.011280906 -0.17197639 -0.14627747 -0.028182122\n",
       "PC2  0.09119969  1.00000000 -0.010470768  0.15962590  0.13577255  0.026158222\n",
       "PC3  0.01128091 -0.01047077  1.000000000  0.01974486  0.01679433  0.003235630\n",
       "PC4 -0.17197639  0.15962590  0.019744857  1.00000000 -0.25602798 -0.049326884\n",
       "PC5 -0.14627747  0.13577255  0.016794327 -0.25602798  1.00000000 -0.041955828\n",
       "PC6 -0.02818212  0.02615822  0.003235630 -0.04932688 -0.04195583  1.000000000\n",
       "PC7 -0.01187334  0.01102066  0.001363196 -0.02078179 -0.01767631 -0.003405555\n",
       "PC8  0.10606206 -0.09844521 -0.012177138  0.18563936  0.15789874  0.030421101\n",
       "PC9  0.20952881 -0.19448149 -0.024056305  0.36673617  0.31193374  0.060097804\n",
       "    PC7          PC8         PC9        \n",
       "PC1 -0.011873344  0.10606206  0.20952881\n",
       "PC2  0.011020660 -0.09844521 -0.19448149\n",
       "PC3  0.001363196 -0.01217714 -0.02405630\n",
       "PC4 -0.020781795  0.18563936  0.36673617\n",
       "PC5 -0.017676312  0.15789874  0.31193374\n",
       "PC6 -0.003405555  0.03042110  0.06009780\n",
       "PC7  1.000000000  0.01281664  0.02531967\n",
       "PC8  0.012816643  1.00000000 -0.22617520\n",
       "PC9  0.025319666 -0.22617520  1.00000000"
      ]
     },
     "metadata": {},
     "output_type": "display_data"
    }
   ],
   "source": [
    "cor(protein.pca$rotation)"
   ]
  },
  {
   "cell_type": "markdown",
   "metadata": {},
   "source": [
    " "
   ]
  },
  {
   "cell_type": "markdown",
   "metadata": {},
   "source": [
    "### <span style='color:gray'>Is there a component that differentiate rich European countries from poor countries?"
   ]
  },
  {
   "cell_type": "markdown",
   "metadata": {},
   "source": [
    "### <span style='color:darkgoldenrod'>   The PCA plot"
   ]
  },
  {
   "cell_type": "markdown",
   "metadata": {},
   "source": [
    "##### <span style='color:tan'> we will make a biplot, which includes both the position of each sample in terms of PC1 and PC2 and also will show you how the initial variables map onto this. we will use the \"ggbiplot\" package. A biplot is a type of plot that will allow to visualize how the samples relate to one another in our PCA (which samples are similar and which are different) and will simultaneously reveal how each variable contributes to each principal component."
   ]
  },
  {
   "cell_type": "markdown",
   "metadata": {},
   "source": [
    "##### <span style='color:tan'> Now we can see which country are similar to one another.Denmark,France,Belgium,Germany, Sweden and UK all cluster together.Also Romaine ,Yugoslavi,Bulgaria Albanis all cluster together . This makes sense that the first cluster are rich Countries unlike the seconde cluster they are poor countries. so we can tray to classified the Countries depend on the financial position of the country.Also we can classified the data in the geographical location of the country."
   ]
  },
  {
   "cell_type": "code",
   "execution_count": 7,
   "metadata": {},
   "outputs": [
    {
     "data": {
      "image/png": "[encoded data removed]",
      "text/plain": [
       "plot without title"
      ]
     },
     "metadata": {
      "image/png": {
       "height": 420,
       "width": 420
      },
      "text/plain": {
       "height": 420,
       "width": 420
      }
     },
     "output_type": "display_data"
    }
   ],
   "source": [
    "ggbiplot(protein.pca,labels=protein$Country)"
   ]
  },
  {
   "cell_type": "markdown",
   "metadata": {},
   "source": [
    "##### <span style='color:tan'> These data represent the geographical location of the countries and their economic status.these are external data that can helpe us with the classification. \n",
    "#### <span style='color:tan'>Reference:\n",
    "<span style='color:tan'>https://www.worldometers.info/geography/how-many-countries-in-europe/"
   ]
  },
  {
   "cell_type": "code",
   "execution_count": 8,
   "metadata": {},
   "outputs": [],
   "source": [
    "protein.Cregion<- c(\"Southern Europe\",\"Western Europe\",\"Western Europe\",\"Eastern Europe\",\"Eastern Europe\",\n",
    "                   \"Northern Europe\",\"Western Europe\",\"Northern Europe\",\"Western Europe\",\"Southern Europe\",\n",
    "                   \"Eastern Europe\",\"Northern Europe\",\"Southern Europe\",\"Western Europe\",\"Northern Europe\",\n",
    "                   \"Eastern Europe\",\"Southern Europe\",\"Eastern Europe\",\"Southern Europe\",\"Northern Europe\",\n",
    "                   \"Western Europe\",\"Northern Europe\",\"Western Europe\",\"Western Europe\",\"Southern Europe\")\n"
   ]
  },
  {
   "cell_type": "code",
   "execution_count": 9,
   "metadata": {},
   "outputs": [],
   "source": [
    "protein.Ceconm <- c(\"Poor Country\",\"Rich Country\",\"Rich Country\",\"Poor Country\",\"Poor Country\",\n",
    "                \"Rich Country\",\"Rich Country\",\"Rich Country\",\"Rich Country\",\"Poor Country\",\n",
    "                \"Poor Country\",\"Rich Country\",\"Rich Country\",\"Rich Country\",\"Rich Country\",\n",
    "                \"Rich Country\",\"Rich Country\",\"Poor Country\",\"Rich Country\",\"Rich Country\",\n",
    "                \"Rich Country\",\"Rich Country\",\"Rich Country\",\"Rich Country\",\"Poor Country\")"
   ]
  },
  {
   "cell_type": "markdown",
   "metadata": {},
   "source": [
    "##### <span style='color:tan'> When we applied the geographical location of the countries \n",
    "##### <span style='color:tan'> we had the plot below ,the Southern Europe countries looking at the axes, we see that characterized by high values for Nuts,Cereal and fruits-vegetables. on the other hand,Western Europe are characterized by high Milk,white meat,Eggs and red meat .Northern Europe countries have close features from Western Europe group, but we cannot see a clear separation between Western Europe and Northern Europe Compared to Western Europe and Southern Europe.\n",
    "##### <span style='color:tan'> Eastern Europe are somewhat in the middle and less tightly grouped than either group."
   ]
  },
  {
   "cell_type": "code",
   "execution_count": 10,
   "metadata": {},
   "outputs": [
    {
     "data": {
      "image/png": "[encoded data removed]",
      "text/plain": [
       "plot without title"
      ]
     },
     "metadata": {
      "image/png": {
       "height": 420,
       "width": 420
      },
      "text/plain": {
       "height": 420,
       "width": 420
      }
     },
     "output_type": "display_data"
    }
   ],
   "source": [
    "ggbiplot(protein.pca,ellipse=TRUE ,labels=protein$Country,group=protein.Cregion,scale=1,var.scale=1,circle=TRUE)"
   ]
  },
  {
   "cell_type": "markdown",
   "metadata": {},
   "source": [
    "##### <span style='color:tan'> When we applied the economic status of each country. \n",
    "##### <span style='color:tan'> We can see from the plot below that the this classification separate the groups completely rather than geographical location groups,the poor countries by looking at the axes, we see that characterized by high values for Nuts,Cereal. on the other hand,the rich countries are characterized by high Milk,white meat,Eggs, red meat,fish ,fruits-vegtables and starch.\n",
    "##### <span style='color:tan'> So we can say that we can Project a new sample onto the original PCA ,we can Project wich  geographical location for this sample by using the first plot and we can Project wich economic status for this sample with using second plot."
   ]
  },
  {
   "cell_type": "code",
   "execution_count": 11,
   "metadata": {},
   "outputs": [
    {
     "data": {
      "image/png": "[encoded data removed]",
      "text/plain": [
       "plot without title"
      ]
     },
     "metadata": {
      "image/png": {
       "height": 420,
       "width": 420
      },
      "text/plain": {
       "height": 420,
       "width": 420
      }
     },
     "output_type": "display_data"
    }
   ],
   "source": [
    "ggbiplot(protein.pca,ellipse=TRUE ,labels=protein$Country,group=protein.Ceconm,scale=1,var.scale=1,circle=TRUE)"
   ]
  },
  {
   "cell_type": "markdown",
   "metadata": {},
   "source": [
    "### <span style='color:maroon'> SECOND QUESTION : </span>"
   ]
  },
  {
   "cell_type": "markdown",
   "metadata": {},
   "source": [
    "### <span style='color:gray'> 2.1_From the oil data, perform LOOCV. \n"
   ]
  },
  {
   "cell_type": "markdown",
   "metadata": {},
   "source": [
    "##### <span style='color:tan'> Meaning get the estimated Fisher function using 17 samples then classify the 18th one using this function. Repeat the process until you exhaust  all the 18 samples.\n",
    "##### <span style='color:tan'> At the end write a table containing 3 columns, 𝑦hat , 𝑚hat and the classification result. "
   ]
  },
  {
   "cell_type": "code",
   "execution_count": 4,
   "metadata": {},
   "outputs": [],
   "source": [
    "oil_ <- read_excel(\"Desktop/lectures SMR 6/Data analysis/oil_residuals.xlsx\")"
   ]
  },
  {
   "cell_type": "code",
   "execution_count": 20,
   "metadata": {},
   "outputs": [],
   "source": [
    "i=1\n",
    "Ctable <- matrix(nrow = 18,ncol = 3)\n",
    "colnames(Ctable) <- c(\"mhat\",\" yhat\",\"Cgroup\")\n",
    "rownames(Ctable) <- c(1:18)\n",
    "while (i < 19){\n",
    "  oil<- oil_[-i,]\n",
    "  X0 <- t(as.matrix(oil_[i,1:5]))\n",
    "  x1 <- oil[oil[1:17,6]==1,][,1:5]\n",
    "  x2 <- oil[oil[1:17,6]==2,][,1:5]\n",
    "  \n",
    "  n1 <- nrow(x1)\n",
    "  n2 <- nrow(x2)\n",
    "  xbar1 <- colMeans(x1)\n",
    "  xbar2 <- colMeans(x2)\n",
    "  s1 <- cov(x1)\n",
    "  s2 <- cov(x2)\n",
    "  spooled <- (((n1-1)*s1)+((n2-1)*s2))/(n1+n2-2)\n",
    "  inv.spooled <-solve(spooled)\n",
    "  Ctable[i,2] <- (xbar1-xbar2)%*%(inv.spooled)%*%(X0)\n",
    "  Ctable[i,1] <- ((xbar1-xbar2)%*%inv.spooled%*%(xbar1+xbar2))/(2)\n",
    "  \n",
    "  Ctable[i,3]<-ifelse(as.numeric(Ctable[i,2]) >= as.numeric(Ctable[i,1]),\"1\",\"2\")\n",
    "  i <- i+1 }"
   ]
  },
  {
   "cell_type": "code",
   "execution_count": 106,
   "metadata": {},
   "outputs": [
    {
     "data": {
      "text/html": [
       "<table>\n",
       "<thead><tr><th scope=col>x1</th><th scope=col>x2</th><th scope=col>x3</th><th scope=col>x4</th><th scope=col>x5</th><th scope=col>population</th></tr></thead>\n",
       "<tbody>\n",
       "\t<tr><td>3.9  </td><td>51   </td><td>0.20 </td><td>7.06 </td><td>12.19</td><td>1    </td></tr>\n",
       "\t<tr><td>2.7  </td><td>49   </td><td>0.07 </td><td>7.14 </td><td>12.23</td><td>1    </td></tr>\n",
       "\t<tr><td>2.8  </td><td>36   </td><td>0.30 </td><td>7.00 </td><td>11.30</td><td>1    </td></tr>\n",
       "\t<tr><td>3.1  </td><td>45   </td><td>0.08 </td><td>7.20 </td><td>13.01</td><td>1    </td></tr>\n",
       "\t<tr><td>3.5  </td><td>46   </td><td>0.10 </td><td>7.81 </td><td>12.63</td><td>1    </td></tr>\n",
       "\t<tr><td>3.9  </td><td>43   </td><td>0.07 </td><td>6.25 </td><td>10.42</td><td>1    </td></tr>\n",
       "\t<tr><td>2.7  </td><td>35   </td><td>0.00 </td><td>5.11 </td><td> 9.00</td><td>1    </td></tr>\n",
       "\t<tr><td>5.0  </td><td>47   </td><td>0.07 </td><td>7.06 </td><td> 6.10</td><td>2    </td></tr>\n",
       "\t<tr><td>3.4  </td><td>32   </td><td>0.20 </td><td>5.82 </td><td> 4.69</td><td>2    </td></tr>\n",
       "\t<tr><td>1.2  </td><td>12   </td><td>0.00 </td><td>5.54 </td><td> 3.15</td><td>2    </td></tr>\n",
       "\t<tr><td>8.4  </td><td>17   </td><td>0.07 </td><td>6.31 </td><td> 4.55</td><td>2    </td></tr>\n",
       "\t<tr><td>4.2  </td><td>36   </td><td>0.50 </td><td>9.25 </td><td> 4.95</td><td>2    </td></tr>\n",
       "\t<tr><td>4.2  </td><td>35   </td><td>0.50 </td><td>5.69 </td><td> 2.22</td><td>2    </td></tr>\n",
       "\t<tr><td>3.9  </td><td>41   </td><td>0.10 </td><td>5.63 </td><td> 2.94</td><td>2    </td></tr>\n",
       "\t<tr><td>3.9  </td><td>36   </td><td>0.07 </td><td>6.19 </td><td> 2.27</td><td>2    </td></tr>\n",
       "\t<tr><td>7.3  </td><td>32   </td><td>0.30 </td><td>8.02 </td><td>12.92</td><td>2    </td></tr>\n",
       "\t<tr><td>4.4  </td><td>46   </td><td>0.07 </td><td>7.54 </td><td> 5.76</td><td>2    </td></tr>\n",
       "\t<tr><td>3.0  </td><td>30   </td><td>0.00 </td><td>5.12 </td><td>10.77</td><td>2    </td></tr>\n",
       "</tbody>\n",
       "</table>\n"
      ],
      "text/latex": [
       "\\begin{tabular}{r|llllll}\n",
       " x1 & x2 & x3 & x4 & x5 & population\\\\\n",
       "\\hline\n",
       "\t 3.9   & 51    & 0.20  & 7.06  & 12.19 & 1    \\\\\n",
       "\t 2.7   & 49    & 0.07  & 7.14  & 12.23 & 1    \\\\\n",
       "\t 2.8   & 36    & 0.30  & 7.00  & 11.30 & 1    \\\\\n",
       "\t 3.1   & 45    & 0.08  & 7.20  & 13.01 & 1    \\\\\n",
       "\t 3.5   & 46    & 0.10  & 7.81  & 12.63 & 1    \\\\\n",
       "\t 3.9   & 43    & 0.07  & 6.25  & 10.42 & 1    \\\\\n",
       "\t 2.7   & 35    & 0.00  & 5.11  &  9.00 & 1    \\\\\n",
       "\t 5.0   & 47    & 0.07  & 7.06  &  6.10 & 2    \\\\\n",
       "\t 3.4   & 32    & 0.20  & 5.82  &  4.69 & 2    \\\\\n",
       "\t 1.2   & 12    & 0.00  & 5.54  &  3.15 & 2    \\\\\n",
       "\t 8.4   & 17    & 0.07  & 6.31  &  4.55 & 2    \\\\\n",
       "\t 4.2   & 36    & 0.50  & 9.25  &  4.95 & 2    \\\\\n",
       "\t 4.2   & 35    & 0.50  & 5.69  &  2.22 & 2    \\\\\n",
       "\t 3.9   & 41    & 0.10  & 5.63  &  2.94 & 2    \\\\\n",
       "\t 3.9   & 36    & 0.07  & 6.19  &  2.27 & 2    \\\\\n",
       "\t 7.3   & 32    & 0.30  & 8.02  & 12.92 & 2    \\\\\n",
       "\t 4.4   & 46    & 0.07  & 7.54  &  5.76 & 2    \\\\\n",
       "\t 3.0   & 30    & 0.00  & 5.12  & 10.77 & 2    \\\\\n",
       "\\end{tabular}\n"
      ],
      "text/markdown": [
       "\n",
       "| x1 | x2 | x3 | x4 | x5 | population |\n",
       "|---|---|---|---|---|---|\n",
       "| 3.9   | 51    | 0.20  | 7.06  | 12.19 | 1     |\n",
       "| 2.7   | 49    | 0.07  | 7.14  | 12.23 | 1     |\n",
       "| 2.8   | 36    | 0.30  | 7.00  | 11.30 | 1     |\n",
       "| 3.1   | 45    | 0.08  | 7.20  | 13.01 | 1     |\n",
       "| 3.5   | 46    | 0.10  | 7.81  | 12.63 | 1     |\n",
       "| 3.9   | 43    | 0.07  | 6.25  | 10.42 | 1     |\n",
       "| 2.7   | 35    | 0.00  | 5.11  |  9.00 | 1     |\n",
       "| 5.0   | 47    | 0.07  | 7.06  |  6.10 | 2     |\n",
       "| 3.4   | 32    | 0.20  | 5.82  |  4.69 | 2     |\n",
       "| 1.2   | 12    | 0.00  | 5.54  |  3.15 | 2     |\n",
       "| 8.4   | 17    | 0.07  | 6.31  |  4.55 | 2     |\n",
       "| 4.2   | 36    | 0.50  | 9.25  |  4.95 | 2     |\n",
       "| 4.2   | 35    | 0.50  | 5.69  |  2.22 | 2     |\n",
       "| 3.9   | 41    | 0.10  | 5.63  |  2.94 | 2     |\n",
       "| 3.9   | 36    | 0.07  | 6.19  |  2.27 | 2     |\n",
       "| 7.3   | 32    | 0.30  | 8.02  | 12.92 | 2     |\n",
       "| 4.4   | 46    | 0.07  | 7.54  |  5.76 | 2     |\n",
       "| 3.0   | 30    | 0.00  | 5.12  | 10.77 | 2     |\n",
       "\n"
      ],
      "text/plain": [
       "   x1  x2 x3   x4   x5    population\n",
       "1  3.9 51 0.20 7.06 12.19 1         \n",
       "2  2.7 49 0.07 7.14 12.23 1         \n",
       "3  2.8 36 0.30 7.00 11.30 1         \n",
       "4  3.1 45 0.08 7.20 13.01 1         \n",
       "5  3.5 46 0.10 7.81 12.63 1         \n",
       "6  3.9 43 0.07 6.25 10.42 1         \n",
       "7  2.7 35 0.00 5.11  9.00 1         \n",
       "8  5.0 47 0.07 7.06  6.10 2         \n",
       "9  3.4 32 0.20 5.82  4.69 2         \n",
       "10 1.2 12 0.00 5.54  3.15 2         \n",
       "11 8.4 17 0.07 6.31  4.55 2         \n",
       "12 4.2 36 0.50 9.25  4.95 2         \n",
       "13 4.2 35 0.50 5.69  2.22 2         \n",
       "14 3.9 41 0.10 5.63  2.94 2         \n",
       "15 3.9 36 0.07 6.19  2.27 2         \n",
       "16 7.3 32 0.30 8.02 12.92 2         \n",
       "17 4.4 46 0.07 7.54  5.76 2         \n",
       "18 3.0 30 0.00 5.12 10.77 2         "
      ]
     },
     "metadata": {},
     "output_type": "display_data"
    }
   ],
   "source": [
    "oil_"
   ]
  },
  {
   "cell_type": "code",
   "execution_count": 21,
   "metadata": {},
   "outputs": [
    {
     "data": {
      "text/html": [
       "<table>\n",
       "<thead><tr><th scope=col>mhat</th><th scope=col> yhat</th><th scope=col>Cgroup</th></tr></thead>\n",
       "<tbody>\n",
       "\t<tr><td>4.39109868783049  </td><td>8.84123168621489  </td><td>1                 </td></tr>\n",
       "\t<tr><td>4.35656982630585  </td><td>9.65681764690475  </td><td>1                 </td></tr>\n",
       "\t<tr><td>5.67591735597181  </td><td>8.05187732850731  </td><td>1                 </td></tr>\n",
       "\t<tr><td>4.36120177466367  </td><td>9.49683175721068  </td><td>1                 </td></tr>\n",
       "\t<tr><td>3.75067802921283  </td><td>7.7149944659077   </td><td>1                 </td></tr>\n",
       "\t<tr><td>5.42124750092847  </td><td>7.69669299824601  </td><td>1                 </td></tr>\n",
       "\t<tr><td>8.28733625831999  </td><td>9.42731478315914  </td><td>1                 </td></tr>\n",
       "\t<tr><td>6.32077090488005  </td><td>4.56083291832701  </td><td>2                 </td></tr>\n",
       "\t<tr><td>3.9307305144285   </td><td>0.850600768384256 </td><td>2                 </td></tr>\n",
       "\t<tr><td>4.48715324839265  </td><td>-0.307008263178933</td><td>2                 </td></tr>\n",
       "\t<tr><td>10.447270429716   </td><td>-26.3084022750496 </td><td>2                 </td></tr>\n",
       "\t<tr><td>4.65952049355969  </td><td>-0.697341959489745</td><td>2                 </td></tr>\n",
       "\t<tr><td>5.35177163655596  </td><td>-0.838562775581607</td><td>2                 </td></tr>\n",
       "\t<tr><td>4.44452476099108  </td><td>0.587349498285268 </td><td>2                 </td></tr>\n",
       "\t<tr><td>4.78410914802999  </td><td>-1.14774163475179 </td><td>2                 </td></tr>\n",
       "\t<tr><td>9.73616181362141  </td><td>14.976338034464   </td><td>1                 </td></tr>\n",
       "\t<tr><td>6.73675841560483  </td><td>4.86299634607287  </td><td>2                 </td></tr>\n",
       "\t<tr><td>-3.56159692651037 </td><td>7.76027735245391  </td><td>1                 </td></tr>\n",
       "</tbody>\n",
       "</table>\n"
      ],
      "text/latex": [
       "\\begin{tabular}{r|lll}\n",
       " mhat &  yhat & Cgroup\\\\\n",
       "\\hline\n",
       "\t 4.39109868783049   & 8.84123168621489   & 1                 \\\\\n",
       "\t 4.35656982630585   & 9.65681764690475   & 1                 \\\\\n",
       "\t 5.67591735597181   & 8.05187732850731   & 1                 \\\\\n",
       "\t 4.36120177466367   & 9.49683175721068   & 1                 \\\\\n",
       "\t 3.75067802921283   & 7.7149944659077    & 1                 \\\\\n",
       "\t 5.42124750092847   & 7.69669299824601   & 1                 \\\\\n",
       "\t 8.28733625831999   & 9.42731478315914   & 1                 \\\\\n",
       "\t 6.32077090488005   & 4.56083291832701   & 2                 \\\\\n",
       "\t 3.9307305144285    & 0.850600768384256  & 2                 \\\\\n",
       "\t 4.48715324839265   & -0.307008263178933 & 2                 \\\\\n",
       "\t 10.447270429716    & -26.3084022750496  & 2                 \\\\\n",
       "\t 4.65952049355969   & -0.697341959489745 & 2                 \\\\\n",
       "\t 5.35177163655596   & -0.838562775581607 & 2                 \\\\\n",
       "\t 4.44452476099108   & 0.587349498285268  & 2                 \\\\\n",
       "\t 4.78410914802999   & -1.14774163475179  & 2                 \\\\\n",
       "\t 9.73616181362141   & 14.976338034464    & 1                 \\\\\n",
       "\t 6.73675841560483   & 4.86299634607287   & 2                 \\\\\n",
       "\t -3.56159692651037  & 7.76027735245391   & 1                 \\\\\n",
       "\\end{tabular}\n"
      ],
      "text/markdown": [
       "\n",
       "| mhat |  yhat | Cgroup |\n",
       "|---|---|---|\n",
       "| 4.39109868783049   | 8.84123168621489   | 1                  |\n",
       "| 4.35656982630585   | 9.65681764690475   | 1                  |\n",
       "| 5.67591735597181   | 8.05187732850731   | 1                  |\n",
       "| 4.36120177466367   | 9.49683175721068   | 1                  |\n",
       "| 3.75067802921283   | 7.7149944659077    | 1                  |\n",
       "| 5.42124750092847   | 7.69669299824601   | 1                  |\n",
       "| 8.28733625831999   | 9.42731478315914   | 1                  |\n",
       "| 6.32077090488005   | 4.56083291832701   | 2                  |\n",
       "| 3.9307305144285    | 0.850600768384256  | 2                  |\n",
       "| 4.48715324839265   | -0.307008263178933 | 2                  |\n",
       "| 10.447270429716    | -26.3084022750496  | 2                  |\n",
       "| 4.65952049355969   | -0.697341959489745 | 2                  |\n",
       "| 5.35177163655596   | -0.838562775581607 | 2                  |\n",
       "| 4.44452476099108   | 0.587349498285268  | 2                  |\n",
       "| 4.78410914802999   | -1.14774163475179  | 2                  |\n",
       "| 9.73616181362141   | 14.976338034464    | 1                  |\n",
       "| 6.73675841560483   | 4.86299634607287   | 2                  |\n",
       "| -3.56159692651037  | 7.76027735245391   | 1                  |\n",
       "\n"
      ],
      "text/plain": [
       "   mhat               yhat              Cgroup\n",
       "1  4.39109868783049  8.84123168621489   1     \n",
       "2  4.35656982630585  9.65681764690475   1     \n",
       "3  5.67591735597181  8.05187732850731   1     \n",
       "4  4.36120177466367  9.49683175721068   1     \n",
       "5  3.75067802921283  7.7149944659077    1     \n",
       "6  5.42124750092847  7.69669299824601   1     \n",
       "7  8.28733625831999  9.42731478315914   1     \n",
       "8  6.32077090488005  4.56083291832701   2     \n",
       "9  3.9307305144285   0.850600768384256  2     \n",
       "10 4.48715324839265  -0.307008263178933 2     \n",
       "11 10.447270429716   -26.3084022750496  2     \n",
       "12 4.65952049355969  -0.697341959489745 2     \n",
       "13 5.35177163655596  -0.838562775581607 2     \n",
       "14 4.44452476099108  0.587349498285268  2     \n",
       "15 4.78410914802999  -1.14774163475179  2     \n",
       "16 9.73616181362141  14.976338034464    1     \n",
       "17 6.73675841560483  4.86299634607287   2     \n",
       "18 -3.56159692651037 7.76027735245391   1     "
      ]
     },
     "metadata": {},
     "output_type": "display_data"
    }
   ],
   "source": [
    "Ctable"
   ]
  },
  {
   "cell_type": "markdown",
   "metadata": {},
   "source": [
    "##### <span style='color:tan'> from the table below we can see that the classification result is very close to the population whith rate 88.89% "
   ]
  },
  {
   "cell_type": "code",
   "execution_count": 22,
   "metadata": {},
   "outputs": [
    {
     "data": {
      "text/html": [
       "<table>\n",
       "<thead><tr><th scope=col>mhat</th><th scope=col> yhat</th><th scope=col>Cgroup</th><th scope=col>population</th></tr></thead>\n",
       "<tbody>\n",
       "\t<tr><td>4.39109868783049  </td><td>8.84123168621489  </td><td>1                 </td><td>1                 </td></tr>\n",
       "\t<tr><td>4.35656982630585  </td><td>9.65681764690475  </td><td>1                 </td><td>1                 </td></tr>\n",
       "\t<tr><td>5.67591735597181  </td><td>8.05187732850731  </td><td>1                 </td><td>1                 </td></tr>\n",
       "\t<tr><td>4.36120177466367  </td><td>9.49683175721068  </td><td>1                 </td><td>1                 </td></tr>\n",
       "\t<tr><td>3.75067802921283  </td><td>7.7149944659077   </td><td>1                 </td><td>1                 </td></tr>\n",
       "\t<tr><td>5.42124750092847  </td><td>7.69669299824601  </td><td>1                 </td><td>1                 </td></tr>\n",
       "\t<tr><td>8.28733625831999  </td><td>9.42731478315914  </td><td>1                 </td><td>1                 </td></tr>\n",
       "\t<tr><td>6.32077090488005  </td><td>4.56083291832701  </td><td>2                 </td><td>2                 </td></tr>\n",
       "\t<tr><td>3.9307305144285   </td><td>0.850600768384256 </td><td>2                 </td><td>2                 </td></tr>\n",
       "\t<tr><td>4.48715324839265  </td><td>-0.307008263178933</td><td>2                 </td><td>2                 </td></tr>\n",
       "\t<tr><td>10.447270429716   </td><td>-26.3084022750496 </td><td>2                 </td><td>2                 </td></tr>\n",
       "\t<tr><td>4.65952049355969  </td><td>-0.697341959489745</td><td>2                 </td><td>2                 </td></tr>\n",
       "\t<tr><td>5.35177163655596  </td><td>-0.838562775581607</td><td>2                 </td><td>2                 </td></tr>\n",
       "\t<tr><td>4.44452476099108  </td><td>0.587349498285268 </td><td>2                 </td><td>2                 </td></tr>\n",
       "\t<tr><td>4.78410914802999  </td><td>-1.14774163475179 </td><td>2                 </td><td>2                 </td></tr>\n",
       "\t<tr><td>9.73616181362141  </td><td>14.976338034464   </td><td>1                 </td><td>2                 </td></tr>\n",
       "\t<tr><td>6.73675841560483  </td><td>4.86299634607287  </td><td>2                 </td><td>2                 </td></tr>\n",
       "\t<tr><td>-3.56159692651037 </td><td>7.76027735245391  </td><td>1                 </td><td>2                 </td></tr>\n",
       "</tbody>\n",
       "</table>\n"
      ],
      "text/latex": [
       "\\begin{tabular}{r|llll}\n",
       " mhat &  yhat & Cgroup & population\\\\\n",
       "\\hline\n",
       "\t 4.39109868783049   & 8.84123168621489   & 1                  & 1                 \\\\\n",
       "\t 4.35656982630585   & 9.65681764690475   & 1                  & 1                 \\\\\n",
       "\t 5.67591735597181   & 8.05187732850731   & 1                  & 1                 \\\\\n",
       "\t 4.36120177466367   & 9.49683175721068   & 1                  & 1                 \\\\\n",
       "\t 3.75067802921283   & 7.7149944659077    & 1                  & 1                 \\\\\n",
       "\t 5.42124750092847   & 7.69669299824601   & 1                  & 1                 \\\\\n",
       "\t 8.28733625831999   & 9.42731478315914   & 1                  & 1                 \\\\\n",
       "\t 6.32077090488005   & 4.56083291832701   & 2                  & 2                 \\\\\n",
       "\t 3.9307305144285    & 0.850600768384256  & 2                  & 2                 \\\\\n",
       "\t 4.48715324839265   & -0.307008263178933 & 2                  & 2                 \\\\\n",
       "\t 10.447270429716    & -26.3084022750496  & 2                  & 2                 \\\\\n",
       "\t 4.65952049355969   & -0.697341959489745 & 2                  & 2                 \\\\\n",
       "\t 5.35177163655596   & -0.838562775581607 & 2                  & 2                 \\\\\n",
       "\t 4.44452476099108   & 0.587349498285268  & 2                  & 2                 \\\\\n",
       "\t 4.78410914802999   & -1.14774163475179  & 2                  & 2                 \\\\\n",
       "\t 9.73616181362141   & 14.976338034464    & 1                  & 2                 \\\\\n",
       "\t 6.73675841560483   & 4.86299634607287   & 2                  & 2                 \\\\\n",
       "\t -3.56159692651037  & 7.76027735245391   & 1                  & 2                 \\\\\n",
       "\\end{tabular}\n"
      ],
      "text/markdown": [
       "\n",
       "| mhat |  yhat | Cgroup | population |\n",
       "|---|---|---|---|\n",
       "| 4.39109868783049   | 8.84123168621489   | 1                  | 1                  |\n",
       "| 4.35656982630585   | 9.65681764690475   | 1                  | 1                  |\n",
       "| 5.67591735597181   | 8.05187732850731   | 1                  | 1                  |\n",
       "| 4.36120177466367   | 9.49683175721068   | 1                  | 1                  |\n",
       "| 3.75067802921283   | 7.7149944659077    | 1                  | 1                  |\n",
       "| 5.42124750092847   | 7.69669299824601   | 1                  | 1                  |\n",
       "| 8.28733625831999   | 9.42731478315914   | 1                  | 1                  |\n",
       "| 6.32077090488005   | 4.56083291832701   | 2                  | 2                  |\n",
       "| 3.9307305144285    | 0.850600768384256  | 2                  | 2                  |\n",
       "| 4.48715324839265   | -0.307008263178933 | 2                  | 2                  |\n",
       "| 10.447270429716    | -26.3084022750496  | 2                  | 2                  |\n",
       "| 4.65952049355969   | -0.697341959489745 | 2                  | 2                  |\n",
       "| 5.35177163655596   | -0.838562775581607 | 2                  | 2                  |\n",
       "| 4.44452476099108   | 0.587349498285268  | 2                  | 2                  |\n",
       "| 4.78410914802999   | -1.14774163475179  | 2                  | 2                  |\n",
       "| 9.73616181362141   | 14.976338034464    | 1                  | 2                  |\n",
       "| 6.73675841560483   | 4.86299634607287   | 2                  | 2                  |\n",
       "| -3.56159692651037  | 7.76027735245391   | 1                  | 2                  |\n",
       "\n"
      ],
      "text/plain": [
       "   mhat               yhat              Cgroup population\n",
       "1  4.39109868783049  8.84123168621489   1      1         \n",
       "2  4.35656982630585  9.65681764690475   1      1         \n",
       "3  5.67591735597181  8.05187732850731   1      1         \n",
       "4  4.36120177466367  9.49683175721068   1      1         \n",
       "5  3.75067802921283  7.7149944659077    1      1         \n",
       "6  5.42124750092847  7.69669299824601   1      1         \n",
       "7  8.28733625831999  9.42731478315914   1      1         \n",
       "8  6.32077090488005  4.56083291832701   2      2         \n",
       "9  3.9307305144285   0.850600768384256  2      2         \n",
       "10 4.48715324839265  -0.307008263178933 2      2         \n",
       "11 10.447270429716   -26.3084022750496  2      2         \n",
       "12 4.65952049355969  -0.697341959489745 2      2         \n",
       "13 5.35177163655596  -0.838562775581607 2      2         \n",
       "14 4.44452476099108  0.587349498285268  2      2         \n",
       "15 4.78410914802999  -1.14774163475179  2      2         \n",
       "16 9.73616181362141  14.976338034464    1      2         \n",
       "17 6.73675841560483  4.86299634607287   2      2         \n",
       "18 -3.56159692651037 7.76027735245391   1      2         "
      ]
     },
     "metadata": {},
     "output_type": "display_data"
    }
   ],
   "source": [
    "cbind(Ctable,oil_[6])\n",
    "\n"
   ]
  },
  {
   "cell_type": "markdown",
   "metadata": {},
   "source": [
    "### <span style='color:darkgoldenrod'>   Ebtehal Alkhamis "
   ]
  },
  {
   "cell_type": "markdown",
   "metadata": {},
   "source": [
    " "
   ]
  },
  {
   "cell_type": "markdown",
   "metadata": {},
   "source": [
    " \n",
    "\n",
    "\n",
    "\n",
    "\n",
    "\n",
    "\n",
    "\n"
   ]
  },
  {
   "cell_type": "markdown",
   "metadata": {},
   "source": [
    "   "
   ]
  },
  {
   "cell_type": "markdown",
   "metadata": {},
   "source": [
    "   "
   ]
  },
  {
   "cell_type": "markdown",
   "metadata": {},
   "source": [
    " "
   ]
  },
  {
   "cell_type": "markdown",
   "metadata": {},
   "source": [
    " "
   ]
  },
  {
   "cell_type": "markdown",
   "metadata": {},
   "source": [
    " ### <span style='color:darkgoldenrod'>  ................................................."
   ]
  },
  {
   "cell_type": "markdown",
   "metadata": {},
   "source": [
    " "
   ]
  },
  {
   "cell_type": "markdown",
   "metadata": {},
   "source": [
    " "
   ]
  }
 ],
 "metadata": {
  "kernelspec": {
   "display_name": "R",
   "language": "R",
   "name": "ir"
  },
  "language_info": {
   "codemirror_mode": "r",
   "file_extension": ".r",
   "mimetype": "text/x-r-source",
   "name": "R",
   "pygments_lexer": "r",
   "version": "3.6.1"
  }
 },
 "nbformat": 4,
 "nbformat_minor": 4
}
